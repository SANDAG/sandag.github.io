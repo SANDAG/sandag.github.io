{
 "cells": [
  {
   "cell_type": "code",
   "execution_count": 8,
   "metadata": {
    "collapsed": false
   },
   "outputs": [
    {
     "data": {
      "text/html": [
       "<script>\n",
       "code_show=true; \n",
       "function code_toggle() {\n",
       " if (code_show){\n",
       " $('div.input').hide();\n",
       " } else {\n",
       " $('div.input').show();\n",
       " }\n",
       " code_show = !code_show\n",
       "} \n",
       "$( document ).ready(code_toggle);\n",
       "</script>\n",
       "The raw code for this IPython notebook is by default hidden for easier reading.\n",
       "To toggle on/off the raw code, click <a href=\"javascript:code_toggle()\">here</a>."
      ],
      "text/plain": [
       "<IPython.core.display.HTML object>"
      ]
     },
     "execution_count": 8,
     "metadata": {},
     "output_type": "execute_result"
    }
   ],
   "source": [
    "from IPython.display import HTML\n",
    "HTML('''<script>\n",
    "code_show=true; \n",
    "function code_toggle() {\n",
    " if (code_show){\n",
    " $('div.input').hide();\n",
    " } else {\n",
    " $('div.input').show();\n",
    " }\n",
    " code_show = !code_show\n",
    "} \n",
    "$( document ).ready(code_toggle);\n",
    "</script>\n",
    "The raw code for this IPython notebook is by default hidden for easier reading.\n",
    "To toggle on/off the raw code, click <a href=\"javascript:code_toggle()\">here</a>.''')"
   ]
  },
  {
   "cell_type": "markdown",
   "metadata": {},
   "source": [
    "**Boring Imports**"
   ]
  },
  {
   "cell_type": "code",
   "execution_count": 1,
   "metadata": {
    "collapsed": false
   },
   "outputs": [],
   "source": [
    "%%capture\n",
    "import io\n",
    "import locale\n",
    "import numpy as np\n",
    "import pandas as pd\n",
    "import urllib2\n",
    "%matplotlib"
   ]
  },
  {
   "cell_type": "markdown",
   "metadata": {},
   "source": [
    "**Grab the Raw CSV Files from the Server**"
   ]
  },
  {
   "cell_type": "code",
   "execution_count": 2,
   "metadata": {
    "collapsed": false
   },
   "outputs": [],
   "source": [
    "%%capture\n",
    "locale.setlocale(locale.LC_ALL, '')\n",
    "\n",
    "base_csv_url = 'ftp://ftpx.sandag.org/sandag/pub/tnet/sr52/base_case_mandatory_tours.csv'\n",
    "alt_csv_url = 'ftp://ftpx.sandag.org/sandag/pub/tnet/sr52/alt_case_mandatory_tours.csv'\n",
    "\n",
    "base_csv_req = urllib2.Request(base_csv_url)\n",
    "base_csv = urllib2.urlopen(base_csv_req).read()\n",
    "\n",
    "alt_csv_req = urllib2.Request(alt_csv_url)\n",
    "alt_csv = urllib2.urlopen(alt_csv_req).read()\n",
    "\n",
    "base_df = pd.read_csv(io.StringIO(base_csv.decode('utf-8')))\n",
    "alt_df = pd.read_csv(io.StringIO(alt_csv.decode('utf-8')))"
   ]
  },
  {
   "cell_type": "markdown",
   "metadata": {},
   "source": [
    "**Get the Total Daily Time Saved with the Improvement**"
   ]
  },
  {
   "cell_type": "code",
   "execution_count": 3,
   "metadata": {
    "collapsed": false
   },
   "outputs": [
    {
     "name": "stdout",
     "output_type": "stream",
     "text": [
      "Total Daily Change in Time Spent on Mandatory Tours:    348,417.3 minutes\n",
      "Total Daily Change in Time Spent on Mandatory Tours:      5,807.0 hours\n"
     ]
    }
   ],
   "source": [
    "daily_min_change = alt_df.tour_time.sum() - base_df.tour_time.sum()\n",
    "print 'Total Daily Change in Time Spent on Mandatory Tours: {0:>12,.1f} minutes'.format(daily_min_change)\n",
    "print 'Total Daily Change in Time Spent on Mandatory Tours: {0:>12,.1f} hours'.format(daily_min_change / 60.)"
   ]
  },
  {
   "cell_type": "markdown",
   "metadata": {},
   "source": [
    "**Get the Total Annual Time Saved with the Improvement**"
   ]
  },
  {
   "cell_type": "code",
   "execution_count": 4,
   "metadata": {
    "collapsed": false
   },
   "outputs": [
    {
     "name": "stdout",
     "output_type": "stream",
     "text": [
      "Total Annual Change in Time Spent on Mandatory Tours:      87,104,323 minutes\n",
      "Total Annual Change in Time Spent on Mandatory Tours:       1,451,739 hours\n"
     ]
    }
   ],
   "source": [
    "#5 days / week * 50 weeks\n",
    "annualization_factor = 250\n",
    "\n",
    "annual_min_change = daily_min_change * annualization_factor\n",
    "print 'Total Annual Change in Time Spent on Mandatory Tours: {0:>15,.0f} minutes'.format(annual_min_change)\n",
    "print 'Total Annual Change in Time Spent on Mandatory Tours: {0:>15,.0f} hours'.format(annual_min_change / 60.)"
   ]
  },
  {
   "cell_type": "markdown",
   "metadata": {},
   "source": [
    "**Monetary Equivalent of Lost Time Annually**"
   ]
  },
  {
   "cell_type": "code",
   "execution_count": 9,
   "metadata": {
    "collapsed": false
   },
   "outputs": [
    {
     "name": "stdout",
     "output_type": "stream",
     "text": [
      "Total Annual Commute Savings from Project: $42,100,422.57\n"
     ]
    }
   ],
   "source": [
    "#https://www.transportation.gov/regulations/economic-values-used-in-analysis\n",
    "value_of_time = 29\n",
    "\n",
    "print 'Total Annual Commute Savings from Project: {0}'.format(locale.currency((annual_min_change / 60.) * value_of_time, grouping=True))"
   ]
  },
  {
   "cell_type": "markdown",
   "metadata": {},
   "source": [
    "**Change in User Fees (e.g., tolls, parking, transit fares) Associated without the Project**"
   ]
  },
  {
   "cell_type": "code",
   "execution_count": 6,
   "metadata": {
    "collapsed": false
   },
   "outputs": [
    {
     "name": "stdout",
     "output_type": "stream",
     "text": [
      "Total Annual Change in User Costs without the Project: $632,990.00\n"
     ]
    }
   ],
   "source": [
    "annual_cost_difference = (alt_df.tour_cost.sum() - base_df.tour_cost.sum()) * annualization_factor\n",
    "print 'Total Annual Change in User Costs without the Project: {0}'.format(locale.currency(annual_cost_difference, grouping=True))"
   ]
  },
  {
   "cell_type": "markdown",
   "metadata": {},
   "source": [
    "**Change in Distance Travelled**"
   ]
  },
  {
   "cell_type": "code",
   "execution_count": 7,
   "metadata": {
    "collapsed": false
   },
   "outputs": [
    {
     "name": "stdout",
     "output_type": "stream",
     "text": [
      "Total Daily Change in Person Miles Travelled on Mandatory Tour:         -180,590 miles\n",
      "Total Annual Change in Person Miles Travelled on Mandatory Tour:     -45,147,422 miles\n"
     ]
    }
   ],
   "source": [
    "daily_change_pmt = alt_df.tour_distance.sum() - base_df.tour_distance.sum()\n",
    "print 'Total Daily Change in Person Miles Travelled on Mandatory Tour: {0:>16,.0f} miles'.format(daily_change_pmt)\n",
    "print 'Total Annual Change in Person Miles Travelled on Mandatory Tour: {0:>15,.0f} miles'.format(daily_change_pmt * annualization_factor)"
   ]
  }
 ],
 "metadata": {
  "kernelspec": {
   "display_name": "Python 2",
   "language": "python",
   "name": "python2"
  },
  "language_info": {
   "codemirror_mode": {
    "name": "ipython",
    "version": 2
   },
   "file_extension": ".py",
   "mimetype": "text/x-python",
   "name": "python",
   "nbconvert_exporter": "python",
   "pygments_lexer": "ipython2",
   "version": "2.7.8"
  }
 },
 "nbformat": 4,
 "nbformat_minor": 0
}
