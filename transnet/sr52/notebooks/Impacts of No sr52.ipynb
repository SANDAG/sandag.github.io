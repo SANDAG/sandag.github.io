{
 "cells": [
  {
   "cell_type": "code",
   "execution_count": 1,
   "metadata": {
    "collapsed": false
   },
   "outputs": [
    {
     "data": {
      "text/html": [
       "<script>\n",
       "code_show=true; \n",
       "function code_toggle() {\n",
       " if (code_show){\n",
       " $('div.input').hide();\n",
       " } else {\n",
       " $('div.input').show();\n",
       " }\n",
       " code_show = !code_show\n",
       "} \n",
       "$( document ).ready(code_toggle);\n",
       "</script>\n",
       "The raw code for this IPython notebook is by default hidden for easier reading.\n",
       "To toggle on/off the raw code, click <a href=\"javascript:code_toggle()\">here</a>."
      ],
      "text/plain": [
       "<IPython.core.display.HTML object>"
      ]
     },
     "execution_count": 1,
     "metadata": {},
     "output_type": "execute_result"
    }
   ],
   "source": [
    "from IPython.display import HTML\n",
    "HTML('''<script>\n",
    "code_show=true; \n",
    "function code_toggle() {\n",
    " if (code_show){\n",
    " $('div.input').hide();\n",
    " } else {\n",
    " $('div.input').show();\n",
    " }\n",
    " code_show = !code_show\n",
    "} \n",
    "$( document ).ready(code_toggle);\n",
    "</script>\n",
    "The raw code for this IPython notebook is by default hidden for easier reading.\n",
    "To toggle on/off the raw code, click <a href=\"javascript:code_toggle()\">here</a>.''')"
   ]
  },
  {
   "cell_type": "markdown",
   "metadata": {},
   "source": [
    "####IMPORT STATEMENTS"
   ]
  },
  {
   "cell_type": "code",
   "execution_count": 1,
   "metadata": {
    "collapsed": false
   },
   "outputs": [],
   "source": [
    "import io\n",
    "import locale\n",
    "import numpy as np\n",
    "import pandas as pd\n",
    "import matplotlib.pyplot as plt\n",
    "%matplotlib inline"
   ]
  },
  {
   "cell_type": "markdown",
   "metadata": {},
   "source": [
    "####Look-up for City Names"
   ]
  },
  {
   "cell_type": "code",
   "execution_count": 2,
   "metadata": {
    "collapsed": false
   },
   "outputs": [],
   "source": [
    "jurisdiction_codes = {\n",
    "    1: 'Carlsbad',2: 'Chula Vista',3: 'Coronado',4: 'Del Mar',5: 'El Cajon',6: 'Encinitas',7: 'Escondido',\n",
    "    8: 'Imperial Beach',9: 'La Mesa',10: 'Lemon Grove',11: 'National City',12: 'Oceanside',13: 'Poway',\n",
    "    14: 'San Diego',15: 'San Marcos',16: 'Santee',17: 'Solana Beach',18: 'Vista',19: 'Unincorporated'\n",
    "}\n",
    "\n",
    "jurisdictions = pd.Series(jurisdiction_codes, name='jurisdiction')\n",
    "\n",
    "mode_codes = {\n",
    "    'Auto SOV (Non-Toll)': (1, 1),'Auto SOV (Toll)': (2, 1),\n",
    "    'Auto 2 Person (Non-Toll, Non-HOV)': (3, 2),'Auto 2 Person (Non-Toll, HOV)': (4, 2),'Auto 2 Person (Toll, HOV)': (5, 2),\n",
    "    'Auto 3+ Person (Non-Toll, Non-HOV)': (6, 3),'Auto 3+ Person (Non-Toll, HOV)': (7, 3),'Auto 3+ Person (Toll, HOV)': (8, 3),\n",
    "    'Walk': (9, 4),'Bike': (10, 5),\n",
    "    'Walk-Local Bus': (11, 6),'Walk-Express Bus': (12, 6),'Walk-Light Rail': (14, 6),'Walk-Heavy Rail': (15, 6),\n",
    "    'PNR-Local Bus': (16, 6),'PNR-Express Bus': (17, 6),'PNR-Light Rail': (19, 6),'PNR-Heavy Rail': (20, 6),\n",
    "    'KNR-Local Bus': (21, 6),'KNR-Express Bus': (22, 6),'KNR-Light Rail': (24, 6),'KNR-Heavy Rail': (25, 6)\n",
    "}\n",
    "\n",
    "\n",
    "\n",
    "modes = pd.DataFrame({'mode_id': [1,2,3,4,5,6,7,8,9,10,11,12,14,15,16,17,19,20,21,22,24,25]\n",
    "                      ,'super_mode' : ['Drive Alone','Drive Alone','HOV','HOV','HOV','HOV','HOV','HOV','Walk','Bike','Transit','Transit','Transit','Transit','Transit','Transit','Transit','Transit','Transit','Transit','Transit','Transit']}\n",
    "                    ,index = ['Auto SOV (Non-Toll)','Auto SOV (Toll)'\n",
    "                             ,'Auto 2 Person (Non-Toll, Non-HOV)','Auto 2 Person (Non-Toll, HOV)','Auto 2 Person (Toll, HOV)'\n",
    "                             ,'Auto 3+ Person (Non-Toll, Non-HOV)','Auto 3+ Person (Non-Toll, HOV)','Auto 3+ Person (Toll, HOV)'\n",
    "                             ,'Walk','Bike'\n",
    "                             ,'Walk-Local Bus','Walk-Express Bus','Walk-Light Rail','Walk-Heavy Rail'\n",
    "                             ,'PNR-Local Bus','PNR-Express Bus','PNR-Light Rail','PNR-Heavy Rail'\n",
    "                             ,'KNR-Local Bus','KNR-Express Bus','KNR-Light Rail','KNR-Heavy Rail'\n",
    "                            ])"
   ]
  },
  {
   "cell_type": "markdown",
   "metadata": {},
   "source": [
    "####Load up the datasets"
   ]
  },
  {
   "cell_type": "code",
   "execution_count": 10,
   "metadata": {
    "collapsed": false
   },
   "outputs": [],
   "source": [
    "locale.setlocale(locale.LC_ALL, '')\n",
    "\n",
    "base_csv_url = 'E:/Apps/sandag.github.io/transnet/baseline_mandatory_residents.csv'\n",
    "alt_csv_url = 'E:/Apps/sandag.github.io/transnet/no_sr52_mandatory_residents.csv'\n",
    "\n",
    "base_df = pd.read_csv(base_csv_url, index_col='tour_ij_id')\n",
    "alt_df = pd.read_csv(alt_csv_url, index_col='tour_ij_id')\n",
    "\n",
    "base_df = pd.merge(base_df, modes, left_on='mode_desc', right_index=True)\n",
    "alt_df = pd.merge(alt_df, modes, left_on='mode_desc', right_index=True)"
   ]
  },
  {
   "cell_type": "markdown",
   "metadata": {},
   "source": [
    "####Casual Tour Statistics"
   ]
  },
  {
   "cell_type": "code",
   "execution_count": 11,
   "metadata": {
    "collapsed": false
   },
   "outputs": [
    {
     "name": "stdout",
     "output_type": "stream",
     "text": [
      "Total Number of Mandatory Tours (Base Case):  1,107,866\n",
      "Total Number of Mandatory Tours (Alt Case):   1,107,849\n"
     ]
    }
   ],
   "source": [
    "print 'Total Number of Mandatory Tours (Base Case): {0:>10,}'.format(len(base_df))\n",
    "print 'Total Number of Mandatory Tours (Alt Case): {0:>11,}'.format(len(alt_df))"
   ]
  },
  {
   "cell_type": "markdown",
   "metadata": {},
   "source": [
    "####Total Daily Time Change for Workers"
   ]
  },
  {
   "cell_type": "code",
   "execution_count": 12,
   "metadata": {
    "collapsed": false
   },
   "outputs": [
    {
     "name": "stdout",
     "output_type": "stream",
     "text": [
      "Total Daily Change in Time Spent on Mandatory Tours:    348,417.3 minutes\n",
      "Total Daily Change in Time Spent on Mandatory Tours:      5,807.0 hours\n"
     ]
    }
   ],
   "source": [
    "daily_min_change = alt_df.tour_time.sum() - base_df.tour_time.sum()\n",
    "\n",
    "print 'Total Daily Change in Time Spent on Mandatory Tours: {0:>12,.1f} minutes'.format(daily_min_change)\n",
    "print 'Total Daily Change in Time Spent on Mandatory Tours: {0:>12,.1f} hours'.format(daily_min_change / 60.)"
   ]
  },
  {
   "cell_type": "markdown",
   "metadata": {},
   "source": [
    "####Total Annual Time Change for Workers"
   ]
  },
  {
   "cell_type": "code",
   "execution_count": 13,
   "metadata": {
    "collapsed": false
   },
   "outputs": [
    {
     "name": "stdout",
     "output_type": "stream",
     "text": [
      "Total Annual Change in Time Spent on Mandatory Tours:      84,092,066 minutes\n",
      "Total Annual Change in Time Spent on Mandatory Tours:       1,401,534 hours\n"
     ]
    }
   ],
   "source": [
    "base_df.loc[:, 'annual_tour_time'] = base_df.tour_time * base_df.weeks_worked * base_df.avg_days_worked\n",
    "alt_df.loc[:, 'annual_tour_time'] = alt_df.tour_time * alt_df.weeks_worked * alt_df.avg_days_worked\n",
    "\n",
    "annual_min_change = alt_df.annual_tour_time.sum() - base_df.annual_tour_time.sum()\n",
    "\n",
    "print 'Total Annual Change in Time Spent on Mandatory Tours: {0:>15,.0f} minutes'.format(annual_min_change)\n",
    "print 'Total Annual Change in Time Spent on Mandatory Tours: {0:>15,.0f} hours'.format(annual_min_change / 60.)"
   ]
  },
  {
   "cell_type": "markdown",
   "metadata": {},
   "source": [
    "####Total Annual Monetary Savings for Workers\n",
    "Value of time is derived from person table: hh_income / num_workers / annual_hours_worked"
   ]
  },
  {
   "cell_type": "code",
   "execution_count": 14,
   "metadata": {
    "collapsed": false
   },
   "outputs": [
    {
     "name": "stdout",
     "output_type": "stream",
     "text": [
      "Total Annual Change in User Costs without the Project: $40,358,683.17\n",
      "Average Annual Commuter Savings without the Project: $36.43\n"
     ]
    }
   ],
   "source": [
    "base_df.loc[:, 'annual_commute_cost'] = base_df.derived_hourly_salary * (base_df.annual_tour_time / 60)\n",
    "alt_df.loc[:, 'annual_commute_cost'] = alt_df.derived_hourly_salary * (alt_df.annual_tour_time / 60)\n",
    "\n",
    "annual_cost_difference = alt_df.annual_commute_cost.sum() - base_df.annual_commute_cost.sum()\n",
    "\n",
    "print 'Total Annual Change in User Costs without the Project: {0}'.format(locale.currency(annual_cost_difference, grouping=True))\n",
    "print 'Average Annual Commuter Savings without the Project: {0}'.format(locale.currency(annual_cost_difference / len(base_df)), grouping=True)"
   ]
  },
  {
   "cell_type": "markdown",
   "metadata": {},
   "source": [
    "####Total and Average Annual Savings for Commuters by Jurisdiction\n",
    "Value of time is derived from person table: hh_income / num_workers / annual_hours_worked"
   ]
  },
  {
   "cell_type": "code",
   "execution_count": 15,
   "metadata": {
    "collapsed": false,
    "scrolled": false
   },
   "outputs": [
    {
     "name": "stdout",
     "output_type": "stream",
     "text": [
      "                     jurisdiction annual_commute_cost\n",
      "home_jurisdiction                                    \n",
      "1                        Carlsbad      $-1,846,594.76\n",
      "2                     Chula Vista       $3,143,207.26\n",
      "3                        Coronado        $-142,970.61\n",
      "4                         Del Mar          $73,084.43\n",
      "5                        El Cajon       $4,756,850.09\n",
      "6                       Encinitas      $-1,417,294.68\n",
      "7                       Escondido        $-489,722.83\n",
      "8                  Imperial Beach         $114,575.22\n",
      "9                         La Mesa       $4,682,955.04\n",
      "10                    Lemon Grove         $781,265.58\n",
      "11                  National City         $568,303.66\n",
      "12                      Oceanside         $429,487.83\n",
      "13                          Poway         $821,263.86\n",
      "14                      San Diego       $7,557,817.29\n",
      "15                     San Marcos        $-517,845.74\n",
      "16                         Santee       $6,228,790.71\n",
      "17                   Solana Beach        $-658,871.18\n",
      "18                          Vista         $359,997.59\n",
      "19                 Unincorporated      $15,914,384.40\n",
      "      jurisdiction avg_annual_commute_savings\n",
      "1         Carlsbad                    $-45.92\n",
      "2      Chula Vista                     $41.50\n",
      "3         Coronado                    $-11.66\n",
      "4          Del Mar                     $37.83\n",
      "5         El Cajon                    $146.10\n",
      "6        Encinitas                    $-60.92\n",
      "7        Escondido                    $-10.68\n",
      "8   Imperial Beach                     $13.07\n",
      "9          La Mesa                    $196.39\n",
      "10     Lemon Grove                     $96.17\n",
      "11   National City                     $28.70\n",
      "12       Oceanside                      $7.37\n",
      "13           Poway                     $51.88\n",
      "14       San Diego                     $15.51\n",
      "15      San Marcos                    $-18.94\n",
      "16          Santee                    $326.88\n",
      "17    Solana Beach                   $-120.10\n",
      "18           Vista                     $12.36\n",
      "19  Unincorporated                     $91.91\n"
     ]
    }
   ],
   "source": [
    "base_jurisdiction = base_df[['home_jurisdiction','tour_time', 'annual_tour_time', 'annual_commute_cost']].groupby('home_jurisdiction').sum()\n",
    "alt_jurisdiction = alt_df[['home_jurisdiction','tour_time', 'annual_tour_time', 'annual_commute_cost']].groupby('home_jurisdiction').sum()\n",
    "base_commuters = base_df[['home_jurisdiction','annual_commute_cost']].groupby('home_jurisdiction').count()\n",
    "base_commuters.columns = ['commuters']\n",
    "\n",
    "jurisdiction_diff = alt_jurisdiction - base_jurisdiction\n",
    "jurisdiction_diff = jurisdiction_diff.join(jurisdictions)\n",
    "print jurisdiction_diff[['jurisdiction','annual_commute_cost']].to_string(formatters={'annual_commute_cost': '${:,.2f}'.format})\n",
    "\n",
    "commuter_savings = jurisdiction_diff['annual_commute_cost'] / base_commuters['commuters']\n",
    "print pd.concat([jurisdictions, commuter_savings], axis=1, keys=['jurisdiction','avg_annual_commute_savings']).to_string(formatters={'avg_annual_commute_savings': '${:,.2f}'.format})"
   ]
  },
  {
   "cell_type": "code",
   "execution_count": 16,
   "metadata": {
    "collapsed": false
   },
   "outputs": [
    {
     "data": {
      "text/plain": [
       "<matplotlib.axes._subplots.AxesSubplot at 0xd0b6278>"
      ]
     },
     "execution_count": 16,
     "metadata": {},
     "output_type": "execute_result"
    },
    {
     "data": {
      "image/png": "[encoded data removed]",
      "text/plain": [
       "<matplotlib.figure.Figure at 0xcfcc9e8>"
      ]
     },
     "metadata": {},
     "output_type": "display_data"
    }
   ],
   "source": [
    "jurisdiction_diff[['jurisdiction','annual_commute_cost']].plot(kind='bar', y='annual_commute_cost', x='jurisdiction')"
   ]
  },
  {
   "cell_type": "code",
   "execution_count": 17,
   "metadata": {
    "collapsed": false
   },
   "outputs": [
    {
     "data": {
      "text/plain": [
       "<matplotlib.axes._subplots.AxesSubplot at 0x170fba58>"
      ]
     },
     "execution_count": 17,
     "metadata": {},
     "output_type": "execute_result"
    },
    {
     "data": {
      "image/png": "[encoded data removed]",
      "text/plain": [
       "<matplotlib.figure.Figure at 0xd1039e8>"
      ]
     },
     "metadata": {},
     "output_type": "display_data"
    }
   ],
   "source": [
    "pd.concat([jurisdictions, commuter_savings], axis=1, keys=['jurisdiction','avg_annual_commute_savings']).plot(kind='bar', x='jurisdiction')"
   ]
  },
  {
   "cell_type": "code",
   "execution_count": 18,
   "metadata": {
    "collapsed": false
   },
   "outputs": [
    {
     "data": {
      "text/html": [
       "<div>\n",
       "<table border=\"1\" class=\"dataframe\">\n",
       "  <thead>\n",
       "    <tr style=\"text-align: right;\">\n",
       "      <th></th>\n",
       "      <th>tour_time</th>\n",
       "      <th>annual_tour_time</th>\n",
       "      <th>annual_commute_cost</th>\n",
       "    </tr>\n",
       "    <tr>\n",
       "      <th>super_mode</th>\n",
       "      <th></th>\n",
       "      <th></th>\n",
       "      <th></th>\n",
       "    </tr>\n",
       "  </thead>\n",
       "  <tbody>\n",
       "    <tr>\n",
       "      <th>Bike</th>\n",
       "      <td>-5650.176000</td>\n",
       "      <td>-1198667.805000</td>\n",
       "      <td>-402106.317322</td>\n",
       "    </tr>\n",
       "    <tr>\n",
       "      <th>Drive Alone</th>\n",
       "      <td>207691.179111</td>\n",
       "      <td>51319365.883501</td>\n",
       "      <td>27415905.202785</td>\n",
       "    </tr>\n",
       "    <tr>\n",
       "      <th>HOV</th>\n",
       "      <td>68227.276043</td>\n",
       "      <td>16111599.756059</td>\n",
       "      <td>6640647.314358</td>\n",
       "    </tr>\n",
       "    <tr>\n",
       "      <th>Transit</th>\n",
       "      <td>78022.533388</td>\n",
       "      <td>18110096.773297</td>\n",
       "      <td>6917598.642948</td>\n",
       "    </tr>\n",
       "    <tr>\n",
       "      <th>Walk</th>\n",
       "      <td>126.477680</td>\n",
       "      <td>-250328.325489</td>\n",
       "      <td>-213361.677141</td>\n",
       "    </tr>\n",
       "  </tbody>\n",
       "</table>\n",
       "</div>"
      ],
      "text/plain": [
       "                 tour_time  annual_tour_time  annual_commute_cost\n",
       "super_mode                                                       \n",
       "Bike          -5650.176000   -1198667.805000       -402106.317322\n",
       "Drive Alone  207691.179111   51319365.883501      27415905.202785\n",
       "HOV           68227.276043   16111599.756059       6640647.314358\n",
       "Transit       78022.533388   18110096.773297       6917598.642948\n",
       "Walk            126.477680    -250328.325489       -213361.677141"
      ]
     },
     "execution_count": 18,
     "metadata": {},
     "output_type": "execute_result"
    }
   ],
   "source": [
    "base_mode_sum = base_df[['super_mode','tour_time', 'annual_tour_time', 'annual_commute_cost']].groupby('super_mode').sum()\n",
    "alt_mode_sum = alt_df[['super_mode','tour_time', 'annual_tour_time', 'annual_commute_cost']].groupby('super_mode').sum()\n",
    "\n",
    "alt_mode_sum - base_mode_sum"
   ]
  },
  {
   "cell_type": "code",
   "execution_count": 19,
   "metadata": {
    "collapsed": false
   },
   "outputs": [
    {
     "data": {
      "text/html": [
       "<div>\n",
       "<table border=\"1\" class=\"dataframe\">\n",
       "  <thead>\n",
       "    <tr>\n",
       "      <th></th>\n",
       "      <th colspan=\"3\" halign=\"left\">tour_time</th>\n",
       "      <th colspan=\"3\" halign=\"left\">annual_tour_time</th>\n",
       "      <th colspan=\"3\" halign=\"left\">annual_commute_cost</th>\n",
       "      <th colspan=\"3\" halign=\"left\">tour_distance</th>\n",
       "    </tr>\n",
       "    <tr>\n",
       "      <th></th>\n",
       "      <th>count</th>\n",
       "      <th>mean</th>\n",
       "      <th>sum</th>\n",
       "      <th>count</th>\n",
       "      <th>mean</th>\n",
       "      <th>sum</th>\n",
       "      <th>count</th>\n",
       "      <th>mean</th>\n",
       "      <th>sum</th>\n",
       "      <th>count</th>\n",
       "      <th>mean</th>\n",
       "      <th>sum</th>\n",
       "    </tr>\n",
       "    <tr>\n",
       "      <th>super_mode</th>\n",
       "      <th></th>\n",
       "      <th></th>\n",
       "      <th></th>\n",
       "      <th></th>\n",
       "      <th></th>\n",
       "      <th></th>\n",
       "      <th></th>\n",
       "      <th></th>\n",
       "      <th></th>\n",
       "      <th></th>\n",
       "      <th></th>\n",
       "      <th></th>\n",
       "    </tr>\n",
       "  </thead>\n",
       "  <tbody>\n",
       "    <tr>\n",
       "      <th>Bike</th>\n",
       "      <td>14385</td>\n",
       "      <td>37.856062</td>\n",
       "      <td>544559.458000</td>\n",
       "      <td>14385</td>\n",
       "      <td>8082.532017</td>\n",
       "      <td>1.162672e+08</td>\n",
       "      <td>14385</td>\n",
       "      <td>3490.993241</td>\n",
       "      <td>5.021794e+07</td>\n",
       "      <td>14385</td>\n",
       "      <td>7.571212</td>\n",
       "      <td>108911.891527</td>\n",
       "    </tr>\n",
       "    <tr>\n",
       "      <th>Drive Alone</th>\n",
       "      <td>704642</td>\n",
       "      <td>50.410824</td>\n",
       "      <td>35521584.098408</td>\n",
       "      <td>704642</td>\n",
       "      <td>11658.788654</td>\n",
       "      <td>8.215272e+09</td>\n",
       "      <td>704642</td>\n",
       "      <td>6874.263946</td>\n",
       "      <td>4.843895e+09</td>\n",
       "      <td>704642</td>\n",
       "      <td>26.310874</td>\n",
       "      <td>18539747.110046</td>\n",
       "    </tr>\n",
       "    <tr>\n",
       "      <th>HOV</th>\n",
       "      <td>316258</td>\n",
       "      <td>49.039920</td>\n",
       "      <td>15509267.008630</td>\n",
       "      <td>316258</td>\n",
       "      <td>11187.257663</td>\n",
       "      <td>3.538060e+09</td>\n",
       "      <td>316258</td>\n",
       "      <td>5937.012172</td>\n",
       "      <td>1.877628e+09</td>\n",
       "      <td>316258</td>\n",
       "      <td>25.580671</td>\n",
       "      <td>8090091.871794</td>\n",
       "    </tr>\n",
       "    <tr>\n",
       "      <th>Transit</th>\n",
       "      <td>36931</td>\n",
       "      <td>111.360357</td>\n",
       "      <td>4112649.328931</td>\n",
       "      <td>36931</td>\n",
       "      <td>24126.439655</td>\n",
       "      <td>8.910135e+08</td>\n",
       "      <td>36931</td>\n",
       "      <td>9440.669019</td>\n",
       "      <td>3.486533e+08</td>\n",
       "      <td>36931</td>\n",
       "      <td>17.395971</td>\n",
       "      <td>642450.590613</td>\n",
       "    </tr>\n",
       "    <tr>\n",
       "      <th>Walk</th>\n",
       "      <td>35650</td>\n",
       "      <td>37.748578</td>\n",
       "      <td>1345736.788285</td>\n",
       "      <td>35650</td>\n",
       "      <td>7234.566461</td>\n",
       "      <td>2.579123e+08</td>\n",
       "      <td>35650</td>\n",
       "      <td>2495.986470</td>\n",
       "      <td>8.898192e+07</td>\n",
       "      <td>35650</td>\n",
       "      <td>1.887429</td>\n",
       "      <td>67286.839703</td>\n",
       "    </tr>\n",
       "  </tbody>\n",
       "</table>\n",
       "</div>"
      ],
      "text/plain": [
       "            tour_time                              annual_tour_time  \\\n",
       "                count        mean              sum            count   \n",
       "super_mode                                                            \n",
       "Bike            14385   37.856062    544559.458000            14385   \n",
       "Drive Alone    704642   50.410824  35521584.098408           704642   \n",
       "HOV            316258   49.039920  15509267.008630           316258   \n",
       "Transit         36931  111.360357   4112649.328931            36931   \n",
       "Walk            35650   37.748578   1345736.788285            35650   \n",
       "\n",
       "                                        annual_commute_cost               \\\n",
       "                     mean           sum               count         mean   \n",
       "super_mode                                                                 \n",
       "Bike          8082.532017  1.162672e+08               14385  3490.993241   \n",
       "Drive Alone  11658.788654  8.215272e+09              704642  6874.263946   \n",
       "HOV          11187.257663  3.538060e+09              316258  5937.012172   \n",
       "Transit      24126.439655  8.910135e+08               36931  9440.669019   \n",
       "Walk          7234.566461  2.579123e+08               35650  2495.986470   \n",
       "\n",
       "                          tour_distance                              \n",
       "                      sum         count       mean              sum  \n",
       "super_mode                                                           \n",
       "Bike         5.021794e+07         14385   7.571212    108911.891527  \n",
       "Drive Alone  4.843895e+09        704642  26.310874  18539747.110046  \n",
       "HOV          1.877628e+09        316258  25.580671   8090091.871794  \n",
       "Transit      3.486533e+08         36931  17.395971    642450.590613  \n",
       "Walk         8.898192e+07         35650   1.887429     67286.839703  "
      ]
     },
     "execution_count": 19,
     "metadata": {},
     "output_type": "execute_result"
    }
   ],
   "source": [
    "base_mode = base_df[['super_mode','tour_time', 'annual_tour_time', 'annual_commute_cost','tour_distance']].groupby('super_mode').agg(['count','mean','sum'])\n",
    "alt_mode = alt_df[['super_mode','tour_time', 'annual_tour_time', 'annual_commute_cost', 'tour_distance']].groupby('super_mode').agg(['count', 'mean','sum'])\n",
    "base_mode"
   ]
  },
  {
   "cell_type": "code",
   "execution_count": 20,
   "metadata": {
    "collapsed": false
   },
   "outputs": [
    {
     "data": {
      "text/html": [
       "<div>\n",
       "<table border=\"1\" class=\"dataframe\">\n",
       "  <thead>\n",
       "    <tr>\n",
       "      <th></th>\n",
       "      <th colspan=\"3\" halign=\"left\">tour_time</th>\n",
       "      <th colspan=\"3\" halign=\"left\">annual_tour_time</th>\n",
       "      <th colspan=\"3\" halign=\"left\">annual_commute_cost</th>\n",
       "      <th colspan=\"3\" halign=\"left\">tour_distance</th>\n",
       "    </tr>\n",
       "    <tr>\n",
       "      <th></th>\n",
       "      <th>count</th>\n",
       "      <th>mean</th>\n",
       "      <th>sum</th>\n",
       "      <th>count</th>\n",
       "      <th>mean</th>\n",
       "      <th>sum</th>\n",
       "      <th>count</th>\n",
       "      <th>mean</th>\n",
       "      <th>sum</th>\n",
       "      <th>count</th>\n",
       "      <th>mean</th>\n",
       "      <th>sum</th>\n",
       "    </tr>\n",
       "    <tr>\n",
       "      <th>super_mode</th>\n",
       "      <th></th>\n",
       "      <th></th>\n",
       "      <th></th>\n",
       "      <th></th>\n",
       "      <th></th>\n",
       "      <th></th>\n",
       "      <th></th>\n",
       "      <th></th>\n",
       "      <th></th>\n",
       "      <th></th>\n",
       "      <th></th>\n",
       "      <th></th>\n",
       "    </tr>\n",
       "  </thead>\n",
       "  <tbody>\n",
       "    <tr>\n",
       "      <th>Bike</th>\n",
       "      <td>14440</td>\n",
       "      <td>37.320587</td>\n",
       "      <td>538909.282000</td>\n",
       "      <td>14440</td>\n",
       "      <td>7968.736513</td>\n",
       "      <td>1.150686e+08</td>\n",
       "      <td>14440</td>\n",
       "      <td>3449.849824</td>\n",
       "      <td>4.981583e+07</td>\n",
       "      <td>14440</td>\n",
       "      <td>7.464117</td>\n",
       "      <td>107781.856317</td>\n",
       "    </tr>\n",
       "    <tr>\n",
       "      <th>Drive Alone</th>\n",
       "      <td>704297</td>\n",
       "      <td>50.730410</td>\n",
       "      <td>35729275.277519</td>\n",
       "      <td>704297</td>\n",
       "      <td>11737.365800</td>\n",
       "      <td>8.266592e+09</td>\n",
       "      <td>704297</td>\n",
       "      <td>6916.557930</td>\n",
       "      <td>4.871311e+09</td>\n",
       "      <td>704297</td>\n",
       "      <td>26.155484</td>\n",
       "      <td>18421228.640198</td>\n",
       "    </tr>\n",
       "    <tr>\n",
       "      <th>HOV</th>\n",
       "      <td>315924</td>\n",
       "      <td>49.307727</td>\n",
       "      <td>15577494.284673</td>\n",
       "      <td>315924</td>\n",
       "      <td>11250.083355</td>\n",
       "      <td>3.554171e+09</td>\n",
       "      <td>315924</td>\n",
       "      <td>5964.308640</td>\n",
       "      <td>1.884268e+09</td>\n",
       "      <td>315924</td>\n",
       "      <td>25.370522</td>\n",
       "      <td>8015156.909991</td>\n",
       "    </tr>\n",
       "    <tr>\n",
       "      <th>Transit</th>\n",
       "      <td>37422</td>\n",
       "      <td>111.984177</td>\n",
       "      <td>4190671.862319</td>\n",
       "      <td>37422</td>\n",
       "      <td>24293.828221</td>\n",
       "      <td>9.091236e+08</td>\n",
       "      <td>37422</td>\n",
       "      <td>9501.655341</td>\n",
       "      <td>3.555709e+08</td>\n",
       "      <td>37422</td>\n",
       "      <td>17.541501</td>\n",
       "      <td>656438.046014</td>\n",
       "    </tr>\n",
       "    <tr>\n",
       "      <th>Walk</th>\n",
       "      <td>35766</td>\n",
       "      <td>37.629684</td>\n",
       "      <td>1345863.265965</td>\n",
       "      <td>35766</td>\n",
       "      <td>7204.103507</td>\n",
       "      <td>2.576620e+08</td>\n",
       "      <td>35766</td>\n",
       "      <td>2481.925739</td>\n",
       "      <td>8.876856e+07</td>\n",
       "      <td>35766</td>\n",
       "      <td>1.881484</td>\n",
       "      <td>67293.163593</td>\n",
       "    </tr>\n",
       "  </tbody>\n",
       "</table>\n",
       "</div>"
      ],
      "text/plain": [
       "            tour_time                              annual_tour_time  \\\n",
       "                count        mean              sum            count   \n",
       "super_mode                                                            \n",
       "Bike            14440   37.320587    538909.282000            14440   \n",
       "Drive Alone    704297   50.730410  35729275.277519           704297   \n",
       "HOV            315924   49.307727  15577494.284673           315924   \n",
       "Transit         37422  111.984177   4190671.862319            37422   \n",
       "Walk            35766   37.629684   1345863.265965            35766   \n",
       "\n",
       "                                        annual_commute_cost               \\\n",
       "                     mean           sum               count         mean   \n",
       "super_mode                                                                 \n",
       "Bike          7968.736513  1.150686e+08               14440  3449.849824   \n",
       "Drive Alone  11737.365800  8.266592e+09              704297  6916.557930   \n",
       "HOV          11250.083355  3.554171e+09              315924  5964.308640   \n",
       "Transit      24293.828221  9.091236e+08               37422  9501.655341   \n",
       "Walk          7204.103507  2.576620e+08               35766  2481.925739   \n",
       "\n",
       "                          tour_distance                              \n",
       "                      sum         count       mean              sum  \n",
       "super_mode                                                           \n",
       "Bike         4.981583e+07         14440   7.464117    107781.856317  \n",
       "Drive Alone  4.871311e+09        704297  26.155484  18421228.640198  \n",
       "HOV          1.884268e+09        315924  25.370522   8015156.909991  \n",
       "Transit      3.555709e+08         37422  17.541501    656438.046014  \n",
       "Walk         8.876856e+07         35766   1.881484     67293.163593  "
      ]
     },
     "execution_count": 20,
     "metadata": {},
     "output_type": "execute_result"
    }
   ],
   "source": [
    "alt_mode"
   ]
  },
  {
   "cell_type": "code",
   "execution_count": 21,
   "metadata": {
    "collapsed": false
   },
   "outputs": [
    {
     "data": {
      "text/html": [
       "<div>\n",
       "<table border=\"1\" class=\"dataframe\">\n",
       "  <thead>\n",
       "    <tr>\n",
       "      <th></th>\n",
       "      <th colspan=\"3\" halign=\"left\">tour_time</th>\n",
       "      <th colspan=\"3\" halign=\"left\">annual_tour_time</th>\n",
       "      <th colspan=\"3\" halign=\"left\">annual_commute_cost</th>\n",
       "      <th colspan=\"3\" halign=\"left\">tour_distance</th>\n",
       "    </tr>\n",
       "    <tr>\n",
       "      <th></th>\n",
       "      <th>count</th>\n",
       "      <th>mean</th>\n",
       "      <th>sum</th>\n",
       "      <th>count</th>\n",
       "      <th>mean</th>\n",
       "      <th>sum</th>\n",
       "      <th>count</th>\n",
       "      <th>mean</th>\n",
       "      <th>sum</th>\n",
       "      <th>count</th>\n",
       "      <th>mean</th>\n",
       "      <th>sum</th>\n",
       "    </tr>\n",
       "    <tr>\n",
       "      <th>super_mode</th>\n",
       "      <th></th>\n",
       "      <th></th>\n",
       "      <th></th>\n",
       "      <th></th>\n",
       "      <th></th>\n",
       "      <th></th>\n",
       "      <th></th>\n",
       "      <th></th>\n",
       "      <th></th>\n",
       "      <th></th>\n",
       "      <th></th>\n",
       "      <th></th>\n",
       "    </tr>\n",
       "  </thead>\n",
       "  <tbody>\n",
       "    <tr>\n",
       "      <th>Bike</th>\n",
       "      <td>55</td>\n",
       "      <td>-0.535475</td>\n",
       "      <td>-5650.176000</td>\n",
       "      <td>55</td>\n",
       "      <td>-113.795503</td>\n",
       "      <td>-1198667.805000</td>\n",
       "      <td>55</td>\n",
       "      <td>-41.143417</td>\n",
       "      <td>-402106.317322</td>\n",
       "      <td>55</td>\n",
       "      <td>-0.107095</td>\n",
       "      <td>-1130.035210</td>\n",
       "    </tr>\n",
       "    <tr>\n",
       "      <th>Drive Alone</th>\n",
       "      <td>-345</td>\n",
       "      <td>0.319585</td>\n",
       "      <td>207691.179111</td>\n",
       "      <td>-345</td>\n",
       "      <td>78.577146</td>\n",
       "      <td>51319365.883501</td>\n",
       "      <td>-345</td>\n",
       "      <td>42.293984</td>\n",
       "      <td>27415905.202785</td>\n",
       "      <td>-345</td>\n",
       "      <td>-0.155391</td>\n",
       "      <td>-118518.469848</td>\n",
       "    </tr>\n",
       "    <tr>\n",
       "      <th>HOV</th>\n",
       "      <td>-334</td>\n",
       "      <td>0.267807</td>\n",
       "      <td>68227.276043</td>\n",
       "      <td>-334</td>\n",
       "      <td>62.825692</td>\n",
       "      <td>16111599.756059</td>\n",
       "      <td>-334</td>\n",
       "      <td>27.296468</td>\n",
       "      <td>6640647.314358</td>\n",
       "      <td>-334</td>\n",
       "      <td>-0.210149</td>\n",
       "      <td>-74934.961803</td>\n",
       "    </tr>\n",
       "    <tr>\n",
       "      <th>Transit</th>\n",
       "      <td>491</td>\n",
       "      <td>0.623820</td>\n",
       "      <td>78022.533388</td>\n",
       "      <td>491</td>\n",
       "      <td>167.388566</td>\n",
       "      <td>18110096.773297</td>\n",
       "      <td>491</td>\n",
       "      <td>60.986322</td>\n",
       "      <td>6917598.642948</td>\n",
       "      <td>491</td>\n",
       "      <td>0.145530</td>\n",
       "      <td>13987.455400</td>\n",
       "    </tr>\n",
       "    <tr>\n",
       "      <th>Walk</th>\n",
       "      <td>116</td>\n",
       "      <td>-0.118894</td>\n",
       "      <td>126.477680</td>\n",
       "      <td>116</td>\n",
       "      <td>-30.462955</td>\n",
       "      <td>-250328.325489</td>\n",
       "      <td>116</td>\n",
       "      <td>-14.060731</td>\n",
       "      <td>-213361.677141</td>\n",
       "      <td>116</td>\n",
       "      <td>-0.005945</td>\n",
       "      <td>6.323889</td>\n",
       "    </tr>\n",
       "  </tbody>\n",
       "</table>\n",
       "</div>"
      ],
      "text/plain": [
       "            tour_time                          annual_tour_time              \\\n",
       "                count      mean            sum            count        mean   \n",
       "super_mode                                                                    \n",
       "Bike               55 -0.535475   -5650.176000               55 -113.795503   \n",
       "Drive Alone      -345  0.319585  207691.179111             -345   78.577146   \n",
       "HOV              -334  0.267807   68227.276043             -334   62.825692   \n",
       "Transit           491  0.623820   78022.533388              491  167.388566   \n",
       "Walk              116 -0.118894     126.477680              116  -30.462955   \n",
       "\n",
       "                             annual_commute_cost                              \\\n",
       "                         sum               count       mean              sum   \n",
       "super_mode                                                                     \n",
       "Bike         -1198667.805000                  55 -41.143417   -402106.317322   \n",
       "Drive Alone  51319365.883501                -345  42.293984  27415905.202785   \n",
       "HOV          16111599.756059                -334  27.296468   6640647.314358   \n",
       "Transit      18110096.773297                 491  60.986322   6917598.642948   \n",
       "Walk          -250328.325489                 116 -14.060731   -213361.677141   \n",
       "\n",
       "            tour_distance                           \n",
       "                    count      mean            sum  \n",
       "super_mode                                          \n",
       "Bike                   55 -0.107095   -1130.035210  \n",
       "Drive Alone          -345 -0.155391 -118518.469848  \n",
       "HOV                  -334 -0.210149  -74934.961803  \n",
       "Transit               491  0.145530   13987.455400  \n",
       "Walk                  116 -0.005945       6.323889  "
      ]
     },
     "execution_count": 21,
     "metadata": {},
     "output_type": "execute_result"
    }
   ],
   "source": [
    "alt_mode - base_mode"
   ]
  },
  {
   "cell_type": "code",
   "execution_count": 22,
   "metadata": {
    "collapsed": false
   },
   "outputs": [
    {
     "name": "stdout",
     "output_type": "stream",
     "text": [
      "Total Daily Change in Person Miles Traveled (PMT) on Mandatory Tours:   -180,589.7 miles\n"
     ]
    }
   ],
   "source": [
    "print 'Total Daily Change in Person Miles Traveled (PMT) on Mandatory Tours: {0:>12,.1f} miles'.format(alt_df.tour_distance.sum() - base_df.tour_distance.sum())"
   ]
  },
  {
   "cell_type": "code",
   "execution_count": null,
   "metadata": {
    "collapsed": true
   },
   "outputs": [],
   "source": []
  }
 ],
 "metadata": {
  "kernelspec": {
   "display_name": "Python 2",
   "language": "python",
   "name": "python2"
  },
  "language_info": {
   "codemirror_mode": {
    "name": "ipython",
    "version": 2
   },
   "file_extension": ".py",
   "mimetype": "text/x-python",
   "name": "python",
   "nbconvert_exporter": "python",
   "pygments_lexer": "ipython2",
   "version": "2.7.8"
  }
 },
 "nbformat": 4,
 "nbformat_minor": 0
}
