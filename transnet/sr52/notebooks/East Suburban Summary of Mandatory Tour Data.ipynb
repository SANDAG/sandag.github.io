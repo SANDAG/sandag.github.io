{
 "cells": [
  {
   "cell_type": "code",
   "execution_count": 8,
   "metadata": {
    "collapsed": false
   },
   "outputs": [
    {
     "data": {
      "text/html": [
       "<script>\n",
       "code_show=true; \n",
       "function code_toggle() {\n",
       " if (code_show){\n",
       " $('div.input').hide();\n",
       " } else {\n",
       " $('div.input').show();\n",
       " }\n",
       " code_show = !code_show\n",
       "} \n",
       "$( document ).ready(code_toggle);\n",
       "</script>\n",
       "The raw code for this IPython notebook is by default hidden for easier reading.\n",
       "To toggle on/off the raw code, click <a href=\"javascript:code_toggle()\">here</a>."
      ],
      "text/plain": [
       "<IPython.core.display.HTML object>"
      ]
     },
     "execution_count": 8,
     "metadata": {},
     "output_type": "execute_result"
    }
   ],
   "source": [
    "from IPython.display import HTML\n",
    "HTML('''<script>\n",
    "code_show=true; \n",
    "function code_toggle() {\n",
    " if (code_show){\n",
    " $('div.input').hide();\n",
    " } else {\n",
    " $('div.input').show();\n",
    " }\n",
    " code_show = !code_show\n",
    "} \n",
    "$( document ).ready(code_toggle);\n",
    "</script>\n",
    "The raw code for this IPython notebook is by default hidden for easier reading.\n",
    "To toggle on/off the raw code, click <a href=\"javascript:code_toggle()\">here</a>.''')"
   ]
  },
  {
   "cell_type": "markdown",
   "metadata": {},
   "source": [
    "**Boring Imports**"
   ]
  },
  {
   "cell_type": "code",
   "execution_count": 2,
   "metadata": {
    "collapsed": false
   },
   "outputs": [],
   "source": [
    "%%capture\n",
    "import io\n",
    "import locale\n",
    "import numpy as np\n",
    "import pandas as pd\n",
    "import urllib2\n",
    "%matplotlib"
   ]
  },
  {
   "cell_type": "markdown",
   "metadata": {},
   "source": [
    "**Grab the Raw CSV Files from the Server**"
   ]
  },
  {
   "cell_type": "code",
   "execution_count": 15,
   "metadata": {
    "collapsed": false
   },
   "outputs": [],
   "source": [
    "%%capture\n",
    "locale.setlocale(locale.LC_ALL, '')\n",
    "\n",
    "base_csv_url = 'ftp://ftpx.sandag.org/sandag/pub/tnet/sr52/base_case_mandatory_tours.csv'\n",
    "alt_csv_url = 'ftp://ftpx.sandag.org/sandag/pub/tnet/sr52/alt_case_mandatory_tours.csv'\n",
    "\n",
    "base_csv_req = urllib2.Request(base_csv_url)\n",
    "base_csv = urllib2.urlopen(base_csv_req).read()\n",
    "\n",
    "alt_csv_req = urllib2.Request(alt_csv_url)\n",
    "alt_csv = urllib2.urlopen(alt_csv_req).read()\n",
    "\n",
    "base_df = pd.read_csv(io.StringIO(base_csv.decode('utf-8')))\n",
    "alt_df = pd.read_csv(io.StringIO(alt_csv.decode('utf-8')))\n",
    "\n",
    "\n",
    "base_df['home_msa_name'] = ''\n",
    "alt_df['home_msa_name'] = ''\n",
    "\n",
    "alt_df.ix[alt_df.home_msa == 0, 'home_msa_name'] = 'Central'\n",
    "alt_df.ix[alt_df.home_msa == 1, 'home_msa_name'] = 'North City'\n",
    "alt_df.ix[alt_df.home_msa == 2, 'home_msa_name'] = 'South Suburban'\n",
    "alt_df.ix[alt_df.home_msa == 3, 'home_msa_name'] = 'East Suburban'\n",
    "alt_df.ix[alt_df.home_msa == 4, 'home_msa_name'] = 'North County West'\n",
    "alt_df.ix[alt_df.home_msa == 5, 'home_msa_name'] = 'North County East'\n",
    "alt_df.ix[alt_df.home_msa == 6, 'home_msa_name'] = 'East County'\n",
    "\n",
    "base_df.ix[base_df.home_msa == 0, 'home_msa_name'] = 'Central'\n",
    "base_df.ix[base_df.home_msa == 1, 'home_msa_name'] = 'North City'\n",
    "base_df.ix[base_df.home_msa == 2, 'home_msa_name'] = 'South Suburban'\n",
    "base_df.ix[base_df.home_msa == 3, 'home_msa_name'] = 'East Suburban'\n",
    "base_df.ix[base_df.home_msa == 4, 'home_msa_name'] = 'North County West'\n",
    "base_df.ix[base_df.home_msa == 5, 'home_msa_name'] = 'North County East'\n",
    "base_df.ix[base_df.home_msa == 6, 'home_msa_name'] = 'East County'"
   ]
  },
  {
   "cell_type": "code",
   "execution_count": 38,
   "metadata": {
    "collapsed": true
   },
   "outputs": [],
   "source": [
    "#5 days / week * 50 weeks\n",
    "annualization_factor = 250\n",
    "\n",
    "#https://www.transportation.gov/regulations/economic-values-used-in-analysis\n",
    "value_of_time = 12.5"
   ]
  },
  {
   "cell_type": "code",
   "execution_count": 39,
   "metadata": {
    "collapsed": false
   },
   "outputs": [
    {
     "name": "stdout",
     "output_type": "stream",
     "text": [
      "Total East Suburban Mandatory Tours with project:            165,691 tours\n",
      "Total East Suburban Mandatory Tours without project:         165,615 tours\n",
      "\n",
      "Average daily commute savings for an East Suburban resident:    1.45 minutes\n",
      "Average annual commute savings for an East Suburban resident: 363.20 minutes\n"
     ]
    }
   ],
   "source": [
    "alt_msa_summ_df = alt_df.groupby(['home_msa_name'])['tour_time'].agg(['mean', 'count'])\n",
    "base_msa_summ_df = base_df.groupby(['home_msa_name'])['tour_time'].agg(['mean', 'count'])\n",
    "\n",
    "print 'Total East Suburban Mandatory Tours with project: {0:>18,.0f} tours'.format(base_msa_summ_df.loc['East Suburban']['count'])\n",
    "print 'Total East Suburban Mandatory Tours without project: {0:>15,.0f} tours'.format(alt_msa_summ_df.loc['East Suburban']['count'])\n",
    "print ''\n",
    "print 'Average daily commute savings for an East Suburban resident: {0:>7,.2f} minutes'.format(alt_msa_summ_df.loc['East Suburban']['mean'] - base_msa_summ_df.loc['East Suburban']['mean'])\n",
    "print 'Average annual commute savings for an East Suburban resident: {0:>6,.2f} minutes'.format((alt_msa_summ_df.loc['East Suburban']['mean'] - base_msa_summ_df.loc['East Suburban']['mean']) * 250)"
   ]
  },
  {
   "cell_type": "markdown",
   "metadata": {},
   "source": [
    "**(East Suburban Residents) Get the Total Daily Time Saved with the Improvement**"
   ]
  },
  {
   "cell_type": "code",
   "execution_count": 40,
   "metadata": {
    "collapsed": false
   },
   "outputs": [
    {
     "name": "stdout",
     "output_type": "stream",
     "text": [
      "(E. Suburban Resident) Total Daily Change in Time Spent on Mandatory Tours:    236,195.2 minutes\n",
      "(E. Suburban Resident) Total Daily Change in Time Spent on Mandatory Tours:      3,936.6 hours\n"
     ]
    }
   ],
   "source": [
    "daily_min_change = alt_df.loc[alt_df.home_msa == 3].tour_time.sum() - base_df.loc[base_df.home_msa == 3].tour_time.sum()\n",
    "print '(E. Suburban Resident) Total Daily Change in Time Spent on Mandatory Tours: {0:>12,.1f} minutes'.format(daily_min_change)\n",
    "print '(E. Suburban Resident) Total Daily Change in Time Spent on Mandatory Tours: {0:>12,.1f} hours'.format(daily_min_change / 60.)"
   ]
  },
  {
   "cell_type": "markdown",
   "metadata": {},
   "source": [
    "**(East Suburban Residents) Get the Total Annual Time Saved with the Improvement**"
   ]
  },
  {
   "cell_type": "code",
   "execution_count": 41,
   "metadata": {
    "collapsed": false
   },
   "outputs": [
    {
     "name": "stdout",
     "output_type": "stream",
     "text": [
      "(E. Suburban Resident) Total Annual Change in Time Spent on Mandatory Tours:      59,048,806 minutes\n",
      "(E. Suburban Resident) Total Annual Change in Time Spent on Mandatory Tours:         984,147 hours\n"
     ]
    }
   ],
   "source": [
    "annual_min_change = daily_min_change * annualization_factor\n",
    "print '(E. Suburban Resident) Total Annual Change in Time Spent on Mandatory Tours: {0:>15,.0f} minutes'.format(annual_min_change)\n",
    "print '(E. Suburban Resident) Total Annual Change in Time Spent on Mandatory Tours: {0:>15,.0f} hours'.format(annual_min_change / 60.)"
   ]
  },
  {
   "cell_type": "markdown",
   "metadata": {},
   "source": [
    "**Monetary Equivalent of Lost Time Annually**"
   ]
  },
  {
   "cell_type": "code",
   "execution_count": 42,
   "metadata": {
    "collapsed": false
   },
   "outputs": [
    {
     "name": "stdout",
     "output_type": "stream",
     "text": [
      "(E. Suburban Resident) Total Annual Commute Savings from Project: $12,301,834.56\n"
     ]
    }
   ],
   "source": [
    "print '(E. Suburban Resident) Total Annual Commute Savings from Project: {0}'.format(locale.currency((annual_min_change / 60.) * value_of_time, grouping=True))"
   ]
  },
  {
   "cell_type": "markdown",
   "metadata": {},
   "source": [
    "**Change in User Fees (e.g., tolls, parking, transit fares) Associated without the Project**"
   ]
  },
  {
   "cell_type": "code",
   "execution_count": 44,
   "metadata": {
    "collapsed": false
   },
   "outputs": [
    {
     "name": "stdout",
     "output_type": "stream",
     "text": [
      "(E. Suburban Resident) Total Annual Change in User Costs without the Project: $294,652.50\n"
     ]
    }
   ],
   "source": [
    "annual_cost_difference = (alt_df.loc[alt_df.home_msa == 3].tour_cost.sum() - base_df.loc[base_df.home_msa == 3].tour_cost.sum()) * annualization_factor\n",
    "print '(E. Suburban Resident) Total Annual Change in User Costs without the Project: {0}'.format(locale.currency(annual_cost_difference, grouping=True))"
   ]
  },
  {
   "cell_type": "markdown",
   "metadata": {},
   "source": [
    "**Change in Distance Travelled**"
   ]
  },
  {
   "cell_type": "code",
   "execution_count": 45,
   "metadata": {
    "collapsed": false
   },
   "outputs": [
    {
     "name": "stdout",
     "output_type": "stream",
     "text": [
      "(E. Suburban Resident) Total Daily Change in Person Miles Travelled on Mandatory Tour:         -105,885 miles\n",
      "(E. Suburban Resident) Total Annual Change in Person Miles Travelled on Mandatory Tour:     -26,471,249 miles\n"
     ]
    }
   ],
   "source": [
    "daily_change_pmt = alt_df.loc[alt_df.home_msa == 3].tour_distance.sum() - base_df.loc[base_df.home_msa == 3].tour_distance.sum()\n",
    "print '(E. Suburban Resident) Total Daily Change in Person Miles Travelled on Mandatory Tour: {0:>16,.0f} miles'.format(daily_change_pmt)\n",
    "print '(E. Suburban Resident) Total Annual Change in Person Miles Travelled on Mandatory Tour: {0:>15,.0f} miles'.format(daily_change_pmt * annualization_factor)"
   ]
  },
  {
   "cell_type": "code",
   "execution_count": null,
   "metadata": {
    "collapsed": true
   },
   "outputs": [],
   "source": []
  }
 ],
 "metadata": {
  "kernelspec": {
   "display_name": "Python 2",
   "language": "python",
   "name": "python2"
  },
  "language_info": {
   "codemirror_mode": {
    "name": "ipython",
    "version": 2
   },
   "file_extension": ".py",
   "mimetype": "text/x-python",
   "name": "python",
   "nbconvert_exporter": "python",
   "pygments_lexer": "ipython2",
   "version": "2.7.8"
  }
 },
 "nbformat": 4,
 "nbformat_minor": 0
}
