{
 "cells": [
  {
   "cell_type": "code",
   "execution_count": 33,
   "metadata": {
    "collapsed": false
   },
   "outputs": [
    {
     "name": "stdout",
     "output_type": "stream",
     "text": [
      "Using matplotlib backend: Qt4Agg\n"
     ]
    },
    {
     "data": {
      "text/plain": [
       "'English_United States.1252'"
      ]
     },
     "execution_count": 33,
     "metadata": {},
     "output_type": "execute_result"
    }
   ],
   "source": [
    "import io\n",
    "import locale\n",
    "import numpy as np\n",
    "import pandas as pd\n",
    "import urllib2\n",
    "%matplotlib\n",
    "\n",
    "locale.setlocale(locale.LC_ALL, '')"
   ]
  },
  {
   "cell_type": "code",
   "execution_count": 27,
   "metadata": {
    "collapsed": false
   },
   "outputs": [],
   "source": [
    "base_csv_url = 'ftp://ftpx.sandag.org/sandag/pub/tnet/sr52/base_case_mandatory_tours.csv'\n",
    "alt_csv_url = 'ftp://ftpx.sandag.org/sandag/pub/tnet/sr52/alt_case_mandatory_tours.csv'\n",
    "\n",
    "base_csv_req = urllib2.Request(base_csv_url)\n",
    "base_csv = urllib2.urlopen(base_csv_req).read()\n",
    "\n",
    "alt_csv_req = urllib2.Request(alt_csv_url)\n",
    "alt_csv = urllib2.urlopen(alt_csv_req).read()\n",
    "\n",
    "base_df = pd.read_csv(io.StringIO(base_csv.decode('utf-8')))\n",
    "alt_df = pd.read_csv(io.StringIO(alt_csv.decode('utf-8')))"
   ]
  },
  {
   "cell_type": "code",
   "execution_count": 28,
   "metadata": {
    "collapsed": false
   },
   "outputs": [
    {
     "name": "stdout",
     "output_type": "stream",
     "text": [
      "Total Daily Change in Time Spent on Mandatory Tours:    348,417.3 minutes\n",
      "Total Daily Change in Time Spent on Mandatory Tours:      5,807.0 hours\n"
     ]
    }
   ],
   "source": [
    "daily_min_change = alt_df.tour_time.sum() - base_df.tour_time.sum()\n",
    "print 'Total Daily Change in Time Spent on Mandatory Tours: {0:>12,.1f} minutes'.format(daily_min_change)\n",
    "print 'Total Daily Change in Time Spent on Mandatory Tours: {0:>12,.1f} hours'.format(daily_min_change / 60.)"
   ]
  },
  {
   "cell_type": "code",
   "execution_count": 29,
   "metadata": {
    "collapsed": false
   },
   "outputs": [
    {
     "name": "stdout",
     "output_type": "stream",
     "text": [
      "Total Annual Change in Time Spent on Mandatory Tours:      87,104,323 minutes\n",
      "Total Annual Change in Time Spent on Mandatory Tours:       1,451,739 hours\n"
     ]
    }
   ],
   "source": [
    "#5 days / week * 50 weeks\n",
    "annualization_factor = 250\n",
    "\n",
    "annual_min_change = daily_min_change * annualization_factor\n",
    "print 'Total Annual Change in Time Spent on Mandatory Tours: {0:>15,.0f} minutes'.format(annual_min_change)\n",
    "print 'Total Annual Change in Time Spent on Mandatory Tours: {0:>15,.0f} hours'.format(annual_min_change / 60.)"
   ]
  },
  {
   "cell_type": "code",
   "execution_count": 35,
   "metadata": {
    "collapsed": false
   },
   "outputs": [
    {
     "name": "stdout",
     "output_type": "stream",
     "text": [
      "Total Annual Commute Savings from Project: $18,146,733.87\n"
     ]
    }
   ],
   "source": [
    "#https://www.transportation.gov/regulations/economic-values-used-in-analysis\n",
    "value_of_time = 12.5\n",
    "\n",
    "print 'Total Annual Commute Savings from Project: {0}'.format(locale.currency((annual_min_change / 60.) * value_of_time, grouping=True))"
   ]
  },
  {
   "cell_type": "code",
   "execution_count": null,
   "metadata": {
    "collapsed": true
   },
   "outputs": [],
   "source": []
  }
 ],
 "metadata": {
  "kernelspec": {
   "display_name": "Python 2",
   "language": "python",
   "name": "python2"
  },
  "language_info": {
   "codemirror_mode": {
    "name": "ipython",
    "version": 2
   },
   "file_extension": ".py",
   "mimetype": "text/x-python",
   "name": "python",
   "nbconvert_exporter": "python",
   "pygments_lexer": "ipython2",
   "version": "2.7.8"
  }
 },
 "nbformat": 4,
 "nbformat_minor": 0
}
