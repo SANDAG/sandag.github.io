{
 "cells": [
  {
   "cell_type": "code",
   "execution_count": 1,
   "metadata": {
    "collapsed": false
   },
   "outputs": [
    {
     "data": {
      "text/html": [
       "<script>\n",
       "code_show=true; \n",
       "function code_toggle() {\n",
       " if (code_show){\n",
       " $('div.input').hide();\n",
       " } else {\n",
       " $('div.input').show();\n",
       " }\n",
       " code_show = !code_show\n",
       "} \n",
       "$( document ).ready(code_toggle);\n",
       "</script>\n",
       "The raw code for this IPython notebook is by default hidden for easier reading.\n",
       "To toggle on/off the raw code, click <a href=\"javascript:code_toggle()\">here</a>."
      ],
      "text/plain": [
       "<IPython.core.display.HTML object>"
      ]
     },
     "execution_count": 1,
     "metadata": {},
     "output_type": "execute_result"
    }
   ],
   "source": [
    "from IPython.display import HTML\n",
    "HTML('''<script>\n",
    "code_show=true; \n",
    "function code_toggle() {\n",
    " if (code_show){\n",
    " $('div.input').hide();\n",
    " } else {\n",
    " $('div.input').show();\n",
    " }\n",
    " code_show = !code_show\n",
    "} \n",
    "$( document ).ready(code_toggle);\n",
    "</script>\n",
    "The raw code for this IPython notebook is by default hidden for easier reading.\n",
    "To toggle on/off the raw code, click <a href=\"javascript:code_toggle()\">here</a>.''')"
   ]
  },
  {
   "cell_type": "markdown",
   "metadata": {},
   "source": [
    "####IMPORT STATEMENTS"
   ]
  },
  {
   "cell_type": "code",
   "execution_count": 1,
   "metadata": {
    "collapsed": false
   },
   "outputs": [],
   "source": [
    "import io\n",
    "import locale\n",
    "import numpy as np\n",
    "import pandas as pd\n",
    "import matplotlib.pyplot as plt\n",
    "%matplotlib inline"
   ]
  },
  {
   "cell_type": "markdown",
   "metadata": {},
   "source": [
    "####Look-up for City Names"
   ]
  },
  {
   "cell_type": "code",
   "execution_count": 2,
   "metadata": {
    "collapsed": false
   },
   "outputs": [],
   "source": [
    "jurisdiction_codes = {\n",
    "    1: 'Carlsbad',2: 'Chula Vista',3: 'Coronado',4: 'Del Mar',5: 'El Cajon',6: 'Encinitas',7: 'Escondido',\n",
    "    8: 'Imperial Beach',9: 'La Mesa',10: 'Lemon Grove',11: 'National City',12: 'Oceanside',13: 'Poway',\n",
    "    14: 'San Diego',15: 'San Marcos',16: 'Santee',17: 'Solana Beach',18: 'Vista',19: 'Unincorporated'\n",
    "}\n",
    "\n",
    "jurisdictions = pd.Series(jurisdiction_codes, name='jurisdiction')\n",
    "\n",
    "mode_codes = {\n",
    "    'Auto SOV (Non-Toll)': (1, 1),'Auto SOV (Toll)': (2, 1),\n",
    "    'Auto 2 Person (Non-Toll, Non-HOV)': (3, 2),'Auto 2 Person (Non-Toll, HOV)': (4, 2),'Auto 2 Person (Toll, HOV)': (5, 2),\n",
    "    'Auto 3+ Person (Non-Toll, Non-HOV)': (6, 3),'Auto 3+ Person (Non-Toll, HOV)': (7, 3),'Auto 3+ Person (Toll, HOV)': (8, 3),\n",
    "    'Walk': (9, 4),'Bike': (10, 5),\n",
    "    'Walk-Local Bus': (11, 6),'Walk-Express Bus': (12, 6),'Walk-Light Rail': (14, 6),'Walk-Heavy Rail': (15, 6),\n",
    "    'PNR-Local Bus': (16, 6),'PNR-Express Bus': (17, 6),'PNR-Light Rail': (19, 6),'PNR-Heavy Rail': (20, 6),\n",
    "    'KNR-Local Bus': (21, 6),'KNR-Express Bus': (22, 6),'KNR-Light Rail': (24, 6),'KNR-Heavy Rail': (25, 6)\n",
    "}\n",
    "\n",
    "\n",
    "\n",
    "modes = pd.DataFrame({'mode_id': [1,2,3,4,5,6,7,8,9,10,11,12,14,15,16,17,19,20,21,22,24,25]\n",
    "                      ,'super_mode' : ['Drive Alone','Drive Alone','HOV','HOV','HOV','HOV','HOV','HOV','Walk','Bike','Transit','Transit','Transit','Transit','Transit','Transit','Transit','Transit','Transit','Transit','Transit','Transit']}\n",
    "                    ,index = ['Auto SOV (Non-Toll)','Auto SOV (Toll)'\n",
    "                             ,'Auto 2 Person (Non-Toll, Non-HOV)','Auto 2 Person (Non-Toll, HOV)','Auto 2 Person (Toll, HOV)'\n",
    "                             ,'Auto 3+ Person (Non-Toll, Non-HOV)','Auto 3+ Person (Non-Toll, HOV)','Auto 3+ Person (Toll, HOV)'\n",
    "                             ,'Walk','Bike'\n",
    "                             ,'Walk-Local Bus','Walk-Express Bus','Walk-Light Rail','Walk-Heavy Rail'\n",
    "                             ,'PNR-Local Bus','PNR-Express Bus','PNR-Light Rail','PNR-Heavy Rail'\n",
    "                             ,'KNR-Local Bus','KNR-Express Bus','KNR-Light Rail','KNR-Heavy Rail'\n",
    "                            ])"
   ]
  },
  {
   "cell_type": "markdown",
   "metadata": {},
   "source": [
    "####Load up the datasets"
   ]
  },
  {
   "cell_type": "code",
   "execution_count": 4,
   "metadata": {
    "collapsed": false
   },
   "outputs": [],
   "source": [
    "locale.setlocale(locale.LC_ALL, '')\n",
    "\n",
    "base_csv_url = 'E:/Apps/sandag.github.io/transnet/baseline_mandatory_residents.csv'\n",
    "alt_csv_url = 'E:/Apps/sandag.github.io/transnet/no_i15ml_mandatory_residents.csv'\n",
    "\n",
    "base_df = pd.read_csv(base_csv_url, index_col='tour_ij_id')\n",
    "alt_df = pd.read_csv(alt_csv_url, index_col='tour_ij_id')\n",
    "\n",
    "base_df = pd.merge(base_df, modes, left_on='mode_desc', right_index=True)\n",
    "alt_df = pd.merge(alt_df, modes, left_on='mode_desc', right_index=True)"
   ]
  },
  {
   "cell_type": "markdown",
   "metadata": {},
   "source": [
    "####Casual Tour Statistics"
   ]
  },
  {
   "cell_type": "code",
   "execution_count": 5,
   "metadata": {
    "collapsed": false
   },
   "outputs": [
    {
     "name": "stdout",
     "output_type": "stream",
     "text": [
      "Total Number of Mandatory Tours (Base Case):  1,107,866\n",
      "Total Number of Mandatory Tours (Alt Case):   1,107,877\n"
     ]
    }
   ],
   "source": [
    "print 'Total Number of Mandatory Tours (Base Case): {0:>10,}'.format(len(base_df))\n",
    "print 'Total Number of Mandatory Tours (Alt Case): {0:>11,}'.format(len(alt_df))"
   ]
  },
  {
   "cell_type": "markdown",
   "metadata": {},
   "source": [
    "####Total Daily Time Change for Workers"
   ]
  },
  {
   "cell_type": "code",
   "execution_count": 6,
   "metadata": {
    "collapsed": false
   },
   "outputs": [
    {
     "name": "stdout",
     "output_type": "stream",
     "text": [
      "Total Daily Change in Time Spent on Mandatory Tours:    206,948.6 minutes\n",
      "Total Daily Change in Time Spent on Mandatory Tours:      3,449.1 hours\n"
     ]
    }
   ],
   "source": [
    "daily_min_change = alt_df.tour_time.sum() - base_df.tour_time.sum()\n",
    "\n",
    "print 'Total Daily Change in Time Spent on Mandatory Tours: {0:>12,.1f} minutes'.format(daily_min_change)\n",
    "print 'Total Daily Change in Time Spent on Mandatory Tours: {0:>12,.1f} hours'.format(daily_min_change / 60.)"
   ]
  },
  {
   "cell_type": "markdown",
   "metadata": {},
   "source": [
    "####Total Annual Time Change for Workers"
   ]
  },
  {
   "cell_type": "code",
   "execution_count": 7,
   "metadata": {
    "collapsed": false
   },
   "outputs": [
    {
     "name": "stdout",
     "output_type": "stream",
     "text": [
      "Total Annual Change in Time Spent on Mandatory Tours:      50,783,848 minutes\n",
      "Total Annual Change in Time Spent on Mandatory Tours:         846,397 hours\n"
     ]
    }
   ],
   "source": [
    "base_df.loc[:, 'annual_tour_time'] = base_df.tour_time * base_df.weeks_worked * base_df.avg_days_worked\n",
    "alt_df.loc[:, 'annual_tour_time'] = alt_df.tour_time * alt_df.weeks_worked * alt_df.avg_days_worked\n",
    "\n",
    "annual_min_change = alt_df.annual_tour_time.sum() - base_df.annual_tour_time.sum()\n",
    "\n",
    "print 'Total Annual Change in Time Spent on Mandatory Tours: {0:>15,.0f} minutes'.format(annual_min_change)\n",
    "print 'Total Annual Change in Time Spent on Mandatory Tours: {0:>15,.0f} hours'.format(annual_min_change / 60.)"
   ]
  },
  {
   "cell_type": "markdown",
   "metadata": {},
   "source": [
    "####Total Annual Monetary Savings for Workers\n",
    "Value of time is derived from person table: hh_income / num_workers / annual_hours_worked"
   ]
  },
  {
   "cell_type": "code",
   "execution_count": 8,
   "metadata": {
    "collapsed": false
   },
   "outputs": [
    {
     "name": "stdout",
     "output_type": "stream",
     "text": [
      "Total Annual Change in User Costs without the Project: $28,502,367.96\n",
      "Average Annual Commuter Savings without the Project: $25.73\n"
     ]
    }
   ],
   "source": [
    "base_df.loc[:, 'annual_commute_cost'] = base_df.derived_hourly_salary * (base_df.annual_tour_time / 60)\n",
    "alt_df.loc[:, 'annual_commute_cost'] = alt_df.derived_hourly_salary * (alt_df.annual_tour_time / 60)\n",
    "\n",
    "annual_cost_difference = alt_df.annual_commute_cost.sum() - base_df.annual_commute_cost.sum()\n",
    "\n",
    "print 'Total Annual Change in User Costs without the Project: {0}'.format(locale.currency(annual_cost_difference, grouping=True))\n",
    "print 'Average Annual Commuter Savings without the Project: {0}'.format(locale.currency(annual_cost_difference / len(base_df)), grouping=True)"
   ]
  },
  {
   "cell_type": "markdown",
   "metadata": {},
   "source": [
    "####Total and Average Annual Savings for Commuters by Jurisdiction\n",
    "Value of time is derived from person table: hh_income / num_workers / annual_hours_worked"
   ]
  },
  {
   "cell_type": "code",
   "execution_count": 9,
   "metadata": {
    "collapsed": false,
    "scrolled": false
   },
   "outputs": [
    {
     "name": "stdout",
     "output_type": "stream",
     "text": [
      "                     jurisdiction annual_commute_cost\n",
      "home_jurisdiction                                    \n",
      "1                        Carlsbad       $1,346,937.39\n",
      "2                     Chula Vista         $922,360.28\n",
      "3                        Coronado          $10,594.71\n",
      "4                         Del Mar         $298,205.09\n",
      "5                        El Cajon        $-435,987.38\n",
      "6                       Encinitas        $-561,501.36\n",
      "7                       Escondido       $9,780,589.66\n",
      "8                  Imperial Beach         $103,064.03\n",
      "9                         La Mesa        $-873,475.32\n",
      "10                    Lemon Grove         $452,344.26\n",
      "11                  National City         $291,835.65\n",
      "12                      Oceanside       $2,353,223.84\n",
      "13                          Poway       $1,573,488.17\n",
      "14                      San Diego       $8,939,904.30\n",
      "15                     San Marcos       $1,574,057.65\n",
      "16                         Santee        $-136,785.15\n",
      "17                   Solana Beach            $-515.39\n",
      "18                          Vista       $1,113,233.37\n",
      "19                 Unincorporated       $1,750,794.17\n",
      "      jurisdiction avg_annual_commute_savings\n",
      "1         Carlsbad                     $33.49\n",
      "2      Chula Vista                     $12.18\n",
      "3         Coronado                      $0.86\n",
      "4          Del Mar                    $154.35\n",
      "5         El Cajon                    $-13.39\n",
      "6        Encinitas                    $-24.13\n",
      "7        Escondido                    $213.36\n",
      "8   Imperial Beach                     $11.75\n",
      "9          La Mesa                    $-36.63\n",
      "10     Lemon Grove                     $55.68\n",
      "11   National City                     $14.74\n",
      "12       Oceanside                     $40.38\n",
      "13           Poway                     $99.41\n",
      "14       San Diego                     $18.35\n",
      "15      San Marcos                     $57.57\n",
      "16          Santee                     $-7.18\n",
      "17    Solana Beach                     $-0.09\n",
      "18           Vista                     $38.21\n",
      "19  Unincorporated                     $10.11\n"
     ]
    }
   ],
   "source": [
    "base_jurisdiction = base_df[['home_jurisdiction','tour_time', 'annual_tour_time', 'annual_commute_cost']].groupby('home_jurisdiction').sum()\n",
    "alt_jurisdiction = alt_df[['home_jurisdiction','tour_time', 'annual_tour_time', 'annual_commute_cost']].groupby('home_jurisdiction').sum()\n",
    "base_commuters = base_df[['home_jurisdiction','annual_commute_cost']].groupby('home_jurisdiction').count()\n",
    "base_commuters.columns = ['commuters']\n",
    "\n",
    "jurisdiction_diff = alt_jurisdiction - base_jurisdiction\n",
    "jurisdiction_diff = jurisdiction_diff.join(jurisdictions)\n",
    "print jurisdiction_diff[['jurisdiction','annual_commute_cost']].to_string(formatters={'annual_commute_cost': '${:,.2f}'.format})\n",
    "\n",
    "commuter_savings = jurisdiction_diff['annual_commute_cost'] / base_commuters['commuters']\n",
    "print pd.concat([jurisdictions, commuter_savings], axis=1, keys=['jurisdiction','avg_annual_commute_savings']).to_string(formatters={'avg_annual_commute_savings': '${:,.2f}'.format})"
   ]
  },
  {
   "cell_type": "code",
   "execution_count": 10,
   "metadata": {
    "collapsed": false
   },
   "outputs": [
    {
     "data": {
      "text/plain": [
       "<matplotlib.axes._subplots.AxesSubplot at 0x1490d860>"
      ]
     },
     "execution_count": 10,
     "metadata": {},
     "output_type": "execute_result"
    },
    {
     "data": {
      "image/png": "[encoded data removed]",
      "text/plain": [
       "<matplotlib.figure.Figure at 0x1490ff28>"
      ]
     },
     "metadata": {},
     "output_type": "display_data"
    }
   ],
   "source": [
    "jurisdiction_diff[['jurisdiction','annual_commute_cost']].plot(kind='bar', y='annual_commute_cost', x='jurisdiction')"
   ]
  },
  {
   "cell_type": "code",
   "execution_count": 11,
   "metadata": {
    "collapsed": false
   },
   "outputs": [
    {
     "data": {
      "text/plain": [
       "<matplotlib.axes._subplots.AxesSubplot at 0x1af70320>"
      ]
     },
     "execution_count": 11,
     "metadata": {},
     "output_type": "execute_result"
    },
    {
     "data": {
      "image/png": "[encoded data removed]",
      "text/plain": [
       "<matplotlib.figure.Figure at 0x1af86f60>"
      ]
     },
     "metadata": {},
     "output_type": "display_data"
    }
   ],
   "source": [
    "pd.concat([jurisdictions, commuter_savings], axis=1, keys=['jurisdiction','avg_annual_commute_savings']).plot(kind='bar', x='jurisdiction')"
   ]
  },
  {
   "cell_type": "code",
   "execution_count": 12,
   "metadata": {
    "collapsed": false
   },
   "outputs": [
    {
     "data": {
      "text/html": [
       "<div>\n",
       "<table border=\"1\" class=\"dataframe\">\n",
       "  <thead>\n",
       "    <tr style=\"text-align: right;\">\n",
       "      <th></th>\n",
       "      <th>tour_time</th>\n",
       "      <th>annual_tour_time</th>\n",
       "      <th>annual_commute_cost</th>\n",
       "    </tr>\n",
       "    <tr>\n",
       "      <th>super_mode</th>\n",
       "      <th></th>\n",
       "      <th></th>\n",
       "      <th></th>\n",
       "    </tr>\n",
       "  </thead>\n",
       "  <tbody>\n",
       "    <tr>\n",
       "      <th>Bike</th>\n",
       "      <td>9445.608000</td>\n",
       "      <td>2362019.714000</td>\n",
       "      <td>308640.150556</td>\n",
       "    </tr>\n",
       "    <tr>\n",
       "      <th>Drive Alone</th>\n",
       "      <td>48263.496721</td>\n",
       "      <td>14215044.538064</td>\n",
       "      <td>8725283.718898</td>\n",
       "    </tr>\n",
       "    <tr>\n",
       "      <th>HOV</th>\n",
       "      <td>135951.686958</td>\n",
       "      <td>31297072.341239</td>\n",
       "      <td>18390263.171701</td>\n",
       "    </tr>\n",
       "    <tr>\n",
       "      <th>Transit</th>\n",
       "      <td>17096.567559</td>\n",
       "      <td>3863712.405485</td>\n",
       "      <td>1152617.368644</td>\n",
       "    </tr>\n",
       "    <tr>\n",
       "      <th>Walk</th>\n",
       "      <td>-3808.804202</td>\n",
       "      <td>-954001.328466</td>\n",
       "      <td>-74436.451539</td>\n",
       "    </tr>\n",
       "  </tbody>\n",
       "</table>\n",
       "</div>"
      ],
      "text/plain": [
       "                 tour_time  annual_tour_time  annual_commute_cost\n",
       "super_mode                                                       \n",
       "Bike           9445.608000    2362019.714000        308640.150556\n",
       "Drive Alone   48263.496721   14215044.538064       8725283.718898\n",
       "HOV          135951.686958   31297072.341239      18390263.171701\n",
       "Transit       17096.567559    3863712.405485       1152617.368644\n",
       "Walk          -3808.804202    -954001.328466        -74436.451539"
      ]
     },
     "execution_count": 12,
     "metadata": {},
     "output_type": "execute_result"
    }
   ],
   "source": [
    "base_mode_sum = base_df[['super_mode','tour_time', 'annual_tour_time', 'annual_commute_cost']].groupby('super_mode').sum()\n",
    "alt_mode_sum = alt_df[['super_mode','tour_time', 'annual_tour_time', 'annual_commute_cost']].groupby('super_mode').sum()\n",
    "\n",
    "alt_mode_sum - base_mode_sum"
   ]
  },
  {
   "cell_type": "code",
   "execution_count": 13,
   "metadata": {
    "collapsed": false
   },
   "outputs": [
    {
     "data": {
      "text/html": [
       "<div>\n",
       "<table border=\"1\" class=\"dataframe\">\n",
       "  <thead>\n",
       "    <tr>\n",
       "      <th></th>\n",
       "      <th colspan=\"3\" halign=\"left\">tour_time</th>\n",
       "      <th colspan=\"3\" halign=\"left\">annual_tour_time</th>\n",
       "      <th colspan=\"3\" halign=\"left\">annual_commute_cost</th>\n",
       "      <th colspan=\"3\" halign=\"left\">tour_distance</th>\n",
       "    </tr>\n",
       "    <tr>\n",
       "      <th></th>\n",
       "      <th>count</th>\n",
       "      <th>mean</th>\n",
       "      <th>sum</th>\n",
       "      <th>count</th>\n",
       "      <th>mean</th>\n",
       "      <th>sum</th>\n",
       "      <th>count</th>\n",
       "      <th>mean</th>\n",
       "      <th>sum</th>\n",
       "      <th>count</th>\n",
       "      <th>mean</th>\n",
       "      <th>sum</th>\n",
       "    </tr>\n",
       "    <tr>\n",
       "      <th>super_mode</th>\n",
       "      <th></th>\n",
       "      <th></th>\n",
       "      <th></th>\n",
       "      <th></th>\n",
       "      <th></th>\n",
       "      <th></th>\n",
       "      <th></th>\n",
       "      <th></th>\n",
       "      <th></th>\n",
       "      <th></th>\n",
       "      <th></th>\n",
       "      <th></th>\n",
       "    </tr>\n",
       "  </thead>\n",
       "  <tbody>\n",
       "    <tr>\n",
       "      <th>Bike</th>\n",
       "      <td>14385</td>\n",
       "      <td>37.856062</td>\n",
       "      <td>544559.458000</td>\n",
       "      <td>14385</td>\n",
       "      <td>8082.532017</td>\n",
       "      <td>1.162672e+08</td>\n",
       "      <td>14385</td>\n",
       "      <td>3490.993241</td>\n",
       "      <td>5.021794e+07</td>\n",
       "      <td>14385</td>\n",
       "      <td>7.571212</td>\n",
       "      <td>108911.891527</td>\n",
       "    </tr>\n",
       "    <tr>\n",
       "      <th>Drive Alone</th>\n",
       "      <td>704642</td>\n",
       "      <td>50.410824</td>\n",
       "      <td>35521584.098408</td>\n",
       "      <td>704642</td>\n",
       "      <td>11658.788654</td>\n",
       "      <td>8.215272e+09</td>\n",
       "      <td>704642</td>\n",
       "      <td>6874.263946</td>\n",
       "      <td>4.843895e+09</td>\n",
       "      <td>704642</td>\n",
       "      <td>26.310874</td>\n",
       "      <td>18539747.110046</td>\n",
       "    </tr>\n",
       "    <tr>\n",
       "      <th>HOV</th>\n",
       "      <td>316258</td>\n",
       "      <td>49.039920</td>\n",
       "      <td>15509267.008630</td>\n",
       "      <td>316258</td>\n",
       "      <td>11187.257663</td>\n",
       "      <td>3.538060e+09</td>\n",
       "      <td>316258</td>\n",
       "      <td>5937.012172</td>\n",
       "      <td>1.877628e+09</td>\n",
       "      <td>316258</td>\n",
       "      <td>25.580671</td>\n",
       "      <td>8090091.871794</td>\n",
       "    </tr>\n",
       "    <tr>\n",
       "      <th>Transit</th>\n",
       "      <td>36931</td>\n",
       "      <td>111.360357</td>\n",
       "      <td>4112649.328931</td>\n",
       "      <td>36931</td>\n",
       "      <td>24126.439655</td>\n",
       "      <td>8.910135e+08</td>\n",
       "      <td>36931</td>\n",
       "      <td>9440.669019</td>\n",
       "      <td>3.486533e+08</td>\n",
       "      <td>36931</td>\n",
       "      <td>17.395971</td>\n",
       "      <td>642450.590613</td>\n",
       "    </tr>\n",
       "    <tr>\n",
       "      <th>Walk</th>\n",
       "      <td>35650</td>\n",
       "      <td>37.748578</td>\n",
       "      <td>1345736.788285</td>\n",
       "      <td>35650</td>\n",
       "      <td>7234.566461</td>\n",
       "      <td>2.579123e+08</td>\n",
       "      <td>35650</td>\n",
       "      <td>2495.986470</td>\n",
       "      <td>8.898192e+07</td>\n",
       "      <td>35650</td>\n",
       "      <td>1.887429</td>\n",
       "      <td>67286.839703</td>\n",
       "    </tr>\n",
       "  </tbody>\n",
       "</table>\n",
       "</div>"
      ],
      "text/plain": [
       "            tour_time                              annual_tour_time  \\\n",
       "                count        mean              sum            count   \n",
       "super_mode                                                            \n",
       "Bike            14385   37.856062    544559.458000            14385   \n",
       "Drive Alone    704642   50.410824  35521584.098408           704642   \n",
       "HOV            316258   49.039920  15509267.008630           316258   \n",
       "Transit         36931  111.360357   4112649.328931            36931   \n",
       "Walk            35650   37.748578   1345736.788285            35650   \n",
       "\n",
       "                                        annual_commute_cost               \\\n",
       "                     mean           sum               count         mean   \n",
       "super_mode                                                                 \n",
       "Bike          8082.532017  1.162672e+08               14385  3490.993241   \n",
       "Drive Alone  11658.788654  8.215272e+09              704642  6874.263946   \n",
       "HOV          11187.257663  3.538060e+09              316258  5937.012172   \n",
       "Transit      24126.439655  8.910135e+08               36931  9440.669019   \n",
       "Walk          7234.566461  2.579123e+08               35650  2495.986470   \n",
       "\n",
       "                          tour_distance                              \n",
       "                      sum         count       mean              sum  \n",
       "super_mode                                                           \n",
       "Bike         5.021794e+07         14385   7.571212    108911.891527  \n",
       "Drive Alone  4.843895e+09        704642  26.310874  18539747.110046  \n",
       "HOV          1.877628e+09        316258  25.580671   8090091.871794  \n",
       "Transit      3.486533e+08         36931  17.395971    642450.590613  \n",
       "Walk         8.898192e+07         35650   1.887429     67286.839703  "
      ]
     },
     "execution_count": 13,
     "metadata": {},
     "output_type": "execute_result"
    }
   ],
   "source": [
    "base_mode = base_df[['super_mode','tour_time', 'annual_tour_time', 'annual_commute_cost','tour_distance']].groupby('super_mode').agg(['count','mean','sum'])\n",
    "alt_mode = alt_df[['super_mode','tour_time', 'annual_tour_time', 'annual_commute_cost', 'tour_distance']].groupby('super_mode').agg(['count', 'mean','sum'])\n",
    "base_mode"
   ]
  },
  {
   "cell_type": "code",
   "execution_count": 14,
   "metadata": {
    "collapsed": false
   },
   "outputs": [
    {
     "data": {
      "text/html": [
       "<div>\n",
       "<table border=\"1\" class=\"dataframe\">\n",
       "  <thead>\n",
       "    <tr>\n",
       "      <th></th>\n",
       "      <th colspan=\"3\" halign=\"left\">tour_time</th>\n",
       "      <th colspan=\"3\" halign=\"left\">annual_tour_time</th>\n",
       "      <th colspan=\"3\" halign=\"left\">annual_commute_cost</th>\n",
       "      <th colspan=\"3\" halign=\"left\">tour_distance</th>\n",
       "    </tr>\n",
       "    <tr>\n",
       "      <th></th>\n",
       "      <th>count</th>\n",
       "      <th>mean</th>\n",
       "      <th>sum</th>\n",
       "      <th>count</th>\n",
       "      <th>mean</th>\n",
       "      <th>sum</th>\n",
       "      <th>count</th>\n",
       "      <th>mean</th>\n",
       "      <th>sum</th>\n",
       "      <th>count</th>\n",
       "      <th>mean</th>\n",
       "      <th>sum</th>\n",
       "    </tr>\n",
       "    <tr>\n",
       "      <th>super_mode</th>\n",
       "      <th></th>\n",
       "      <th></th>\n",
       "      <th></th>\n",
       "      <th></th>\n",
       "      <th></th>\n",
       "      <th></th>\n",
       "      <th></th>\n",
       "      <th></th>\n",
       "      <th></th>\n",
       "      <th></th>\n",
       "      <th></th>\n",
       "      <th></th>\n",
       "    </tr>\n",
       "  </thead>\n",
       "  <tbody>\n",
       "    <tr>\n",
       "      <th>Bike</th>\n",
       "      <td>14609</td>\n",
       "      <td>37.922176</td>\n",
       "      <td>554005.066000</td>\n",
       "      <td>14609</td>\n",
       "      <td>8120.284946</td>\n",
       "      <td>1.186292e+08</td>\n",
       "      <td>14609</td>\n",
       "      <td>3458.592506</td>\n",
       "      <td>5.052658e+07</td>\n",
       "      <td>14609</td>\n",
       "      <td>7.584435</td>\n",
       "      <td>110801.013153</td>\n",
       "    </tr>\n",
       "    <tr>\n",
       "      <th>Drive Alone</th>\n",
       "      <td>703237</td>\n",
       "      <td>50.580171</td>\n",
       "      <td>35569847.595130</td>\n",
       "      <td>703237</td>\n",
       "      <td>11702.295527</td>\n",
       "      <td>8.229487e+09</td>\n",
       "      <td>703237</td>\n",
       "      <td>6900.405381</td>\n",
       "      <td>4.852620e+09</td>\n",
       "      <td>703237</td>\n",
       "      <td>26.120188</td>\n",
       "      <td>18368682.452643</td>\n",
       "    </tr>\n",
       "    <tr>\n",
       "      <th>HOV</th>\n",
       "      <td>317496</td>\n",
       "      <td>49.276900</td>\n",
       "      <td>15645218.695588</td>\n",
       "      <td>317496</td>\n",
       "      <td>11242.210315</td>\n",
       "      <td>3.569357e+09</td>\n",
       "      <td>317496</td>\n",
       "      <td>5971.785026</td>\n",
       "      <td>1.896018e+09</td>\n",
       "      <td>317496</td>\n",
       "      <td>25.324541</td>\n",
       "      <td>8040440.331319</td>\n",
       "    </tr>\n",
       "    <tr>\n",
       "      <th>Transit</th>\n",
       "      <td>36963</td>\n",
       "      <td>111.726480</td>\n",
       "      <td>4129745.896490</td>\n",
       "      <td>36963</td>\n",
       "      <td>24210.081847</td>\n",
       "      <td>8.948773e+08</td>\n",
       "      <td>36963</td>\n",
       "      <td>9463.678946</td>\n",
       "      <td>3.498060e+08</td>\n",
       "      <td>36963</td>\n",
       "      <td>17.320282</td>\n",
       "      <td>640209.593911</td>\n",
       "    </tr>\n",
       "    <tr>\n",
       "      <th>Walk</th>\n",
       "      <td>35572</td>\n",
       "      <td>37.724277</td>\n",
       "      <td>1341927.984083</td>\n",
       "      <td>35572</td>\n",
       "      <td>7223.611071</td>\n",
       "      <td>2.569583e+08</td>\n",
       "      <td>35572</td>\n",
       "      <td>2499.366951</td>\n",
       "      <td>8.890748e+07</td>\n",
       "      <td>35572</td>\n",
       "      <td>1.886214</td>\n",
       "      <td>67096.399500</td>\n",
       "    </tr>\n",
       "  </tbody>\n",
       "</table>\n",
       "</div>"
      ],
      "text/plain": [
       "            tour_time                              annual_tour_time  \\\n",
       "                count        mean              sum            count   \n",
       "super_mode                                                            \n",
       "Bike            14609   37.922176    554005.066000            14609   \n",
       "Drive Alone    703237   50.580171  35569847.595130           703237   \n",
       "HOV            317496   49.276900  15645218.695588           317496   \n",
       "Transit         36963  111.726480   4129745.896490            36963   \n",
       "Walk            35572   37.724277   1341927.984083            35572   \n",
       "\n",
       "                                        annual_commute_cost               \\\n",
       "                     mean           sum               count         mean   \n",
       "super_mode                                                                 \n",
       "Bike          8120.284946  1.186292e+08               14609  3458.592506   \n",
       "Drive Alone  11702.295527  8.229487e+09              703237  6900.405381   \n",
       "HOV          11242.210315  3.569357e+09              317496  5971.785026   \n",
       "Transit      24210.081847  8.948773e+08               36963  9463.678946   \n",
       "Walk          7223.611071  2.569583e+08               35572  2499.366951   \n",
       "\n",
       "                          tour_distance                              \n",
       "                      sum         count       mean              sum  \n",
       "super_mode                                                           \n",
       "Bike         5.052658e+07         14609   7.584435    110801.013153  \n",
       "Drive Alone  4.852620e+09        703237  26.120188  18368682.452643  \n",
       "HOV          1.896018e+09        317496  25.324541   8040440.331319  \n",
       "Transit      3.498060e+08         36963  17.320282    640209.593911  \n",
       "Walk         8.890748e+07         35572   1.886214     67096.399500  "
      ]
     },
     "execution_count": 14,
     "metadata": {},
     "output_type": "execute_result"
    }
   ],
   "source": [
    "alt_mode"
   ]
  },
  {
   "cell_type": "code",
   "execution_count": 15,
   "metadata": {
    "collapsed": false
   },
   "outputs": [
    {
     "data": {
      "text/html": [
       "<div>\n",
       "<table border=\"1\" class=\"dataframe\">\n",
       "  <thead>\n",
       "    <tr>\n",
       "      <th></th>\n",
       "      <th colspan=\"3\" halign=\"left\">tour_time</th>\n",
       "      <th colspan=\"3\" halign=\"left\">annual_tour_time</th>\n",
       "      <th colspan=\"3\" halign=\"left\">annual_commute_cost</th>\n",
       "      <th colspan=\"3\" halign=\"left\">tour_distance</th>\n",
       "    </tr>\n",
       "    <tr>\n",
       "      <th></th>\n",
       "      <th>count</th>\n",
       "      <th>mean</th>\n",
       "      <th>sum</th>\n",
       "      <th>count</th>\n",
       "      <th>mean</th>\n",
       "      <th>sum</th>\n",
       "      <th>count</th>\n",
       "      <th>mean</th>\n",
       "      <th>sum</th>\n",
       "      <th>count</th>\n",
       "      <th>mean</th>\n",
       "      <th>sum</th>\n",
       "    </tr>\n",
       "    <tr>\n",
       "      <th>super_mode</th>\n",
       "      <th></th>\n",
       "      <th></th>\n",
       "      <th></th>\n",
       "      <th></th>\n",
       "      <th></th>\n",
       "      <th></th>\n",
       "      <th></th>\n",
       "      <th></th>\n",
       "      <th></th>\n",
       "      <th></th>\n",
       "      <th></th>\n",
       "      <th></th>\n",
       "    </tr>\n",
       "  </thead>\n",
       "  <tbody>\n",
       "    <tr>\n",
       "      <th>Bike</th>\n",
       "      <td>224</td>\n",
       "      <td>0.066113</td>\n",
       "      <td>9445.608000</td>\n",
       "      <td>224</td>\n",
       "      <td>37.752929</td>\n",
       "      <td>2362019.714000</td>\n",
       "      <td>224</td>\n",
       "      <td>-32.400735</td>\n",
       "      <td>308640.150556</td>\n",
       "      <td>224</td>\n",
       "      <td>0.013223</td>\n",
       "      <td>1889.121626</td>\n",
       "    </tr>\n",
       "    <tr>\n",
       "      <th>Drive Alone</th>\n",
       "      <td>-1405</td>\n",
       "      <td>0.169346</td>\n",
       "      <td>48263.496721</td>\n",
       "      <td>-1405</td>\n",
       "      <td>43.506873</td>\n",
       "      <td>14215044.538064</td>\n",
       "      <td>-1405</td>\n",
       "      <td>26.141435</td>\n",
       "      <td>8725283.718898</td>\n",
       "      <td>-1405</td>\n",
       "      <td>-0.190687</td>\n",
       "      <td>-171064.657404</td>\n",
       "    </tr>\n",
       "    <tr>\n",
       "      <th>HOV</th>\n",
       "      <td>1238</td>\n",
       "      <td>0.236980</td>\n",
       "      <td>135951.686958</td>\n",
       "      <td>1238</td>\n",
       "      <td>54.952652</td>\n",
       "      <td>31297072.341239</td>\n",
       "      <td>1238</td>\n",
       "      <td>34.772854</td>\n",
       "      <td>18390263.171701</td>\n",
       "      <td>1238</td>\n",
       "      <td>-0.256131</td>\n",
       "      <td>-49651.540475</td>\n",
       "    </tr>\n",
       "    <tr>\n",
       "      <th>Transit</th>\n",
       "      <td>32</td>\n",
       "      <td>0.366124</td>\n",
       "      <td>17096.567559</td>\n",
       "      <td>32</td>\n",
       "      <td>83.642192</td>\n",
       "      <td>3863712.405485</td>\n",
       "      <td>32</td>\n",
       "      <td>23.009928</td>\n",
       "      <td>1152617.368644</td>\n",
       "      <td>32</td>\n",
       "      <td>-0.075688</td>\n",
       "      <td>-2240.996703</td>\n",
       "    </tr>\n",
       "    <tr>\n",
       "      <th>Walk</th>\n",
       "      <td>-78</td>\n",
       "      <td>-0.024300</td>\n",
       "      <td>-3808.804202</td>\n",
       "      <td>-78</td>\n",
       "      <td>-10.955390</td>\n",
       "      <td>-954001.328466</td>\n",
       "      <td>-78</td>\n",
       "      <td>3.380482</td>\n",
       "      <td>-74436.451539</td>\n",
       "      <td>-78</td>\n",
       "      <td>-0.001215</td>\n",
       "      <td>-190.440204</td>\n",
       "    </tr>\n",
       "  </tbody>\n",
       "</table>\n",
       "</div>"
      ],
      "text/plain": [
       "            tour_time                          annual_tour_time             \\\n",
       "                count      mean            sum            count       mean   \n",
       "super_mode                                                                   \n",
       "Bike              224  0.066113    9445.608000              224  37.752929   \n",
       "Drive Alone     -1405  0.169346   48263.496721            -1405  43.506873   \n",
       "HOV              1238  0.236980  135951.686958             1238  54.952652   \n",
       "Transit            32  0.366124   17096.567559               32  83.642192   \n",
       "Walk              -78 -0.024300   -3808.804202              -78 -10.955390   \n",
       "\n",
       "                             annual_commute_cost                              \\\n",
       "                         sum               count       mean              sum   \n",
       "super_mode                                                                     \n",
       "Bike          2362019.714000                 224 -32.400735    308640.150556   \n",
       "Drive Alone  14215044.538064               -1405  26.141435   8725283.718898   \n",
       "HOV          31297072.341239                1238  34.772854  18390263.171701   \n",
       "Transit       3863712.405485                  32  23.009928   1152617.368644   \n",
       "Walk          -954001.328466                 -78   3.380482    -74436.451539   \n",
       "\n",
       "            tour_distance                           \n",
       "                    count      mean            sum  \n",
       "super_mode                                          \n",
       "Bike                  224  0.013223    1889.121626  \n",
       "Drive Alone         -1405 -0.190687 -171064.657404  \n",
       "HOV                  1238 -0.256131  -49651.540475  \n",
       "Transit                32 -0.075688   -2240.996703  \n",
       "Walk                  -78 -0.001215    -190.440204  "
      ]
     },
     "execution_count": 15,
     "metadata": {},
     "output_type": "execute_result"
    }
   ],
   "source": [
    "alt_mode - base_mode"
   ]
  },
  {
   "cell_type": "code",
   "execution_count": 16,
   "metadata": {
    "collapsed": false
   },
   "outputs": [
    {
     "name": "stdout",
     "output_type": "stream",
     "text": [
      "Total Daily Change in Person Miles Traveled (PMT) on Mandatory Tours:   -221,258.5 miles\n"
     ]
    }
   ],
   "source": [
    "print 'Total Daily Change in Person Miles Traveled (PMT) on Mandatory Tours: {0:>12,.1f} miles'.format(alt_df.tour_distance.sum() - base_df.tour_distance.sum())"
   ]
  },
  {
   "cell_type": "code",
   "execution_count": null,
   "metadata": {
    "collapsed": true
   },
   "outputs": [],
   "source": []
  }
 ],
 "metadata": {
  "kernelspec": {
   "display_name": "Python 2",
   "language": "python",
   "name": "python2"
  },
  "language_info": {
   "codemirror_mode": {
    "name": "ipython",
    "version": 2
   },
   "file_extension": ".py",
   "mimetype": "text/x-python",
   "name": "python",
   "nbconvert_exporter": "python",
   "pygments_lexer": "ipython2",
   "version": "2.7.8"
  }
 },
 "nbformat": 4,
 "nbformat_minor": 0
}
