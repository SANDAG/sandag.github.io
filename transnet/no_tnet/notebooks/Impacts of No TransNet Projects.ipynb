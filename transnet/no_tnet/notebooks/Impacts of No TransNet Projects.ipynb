{
 "cells": [
  {
   "cell_type": "code",
   "execution_count": 1,
   "metadata": {
    "collapsed": false
   },
   "outputs": [
    {
     "data": {
      "text/html": [
       "<script>\n",
       "code_show=true; \n",
       "function code_toggle() {\n",
       " if (code_show){\n",
       " $('div.input').hide();\n",
       " } else {\n",
       " $('div.input').show();\n",
       " }\n",
       " code_show = !code_show\n",
       "} \n",
       "$( document ).ready(code_toggle);\n",
       "</script>\n",
       "The raw code for this IPython notebook is by default hidden for easier reading.\n",
       "To toggle on/off the raw code, click <a href=\"javascript:code_toggle()\">here</a>."
      ],
      "text/plain": [
       "<IPython.core.display.HTML object>"
      ]
     },
     "execution_count": 1,
     "metadata": {},
     "output_type": "execute_result"
    }
   ],
   "source": [
    "from IPython.display import HTML\n",
    "HTML('''<script>\n",
    "code_show=true; \n",
    "function code_toggle() {\n",
    " if (code_show){\n",
    " $('div.input').hide();\n",
    " } else {\n",
    " $('div.input').show();\n",
    " }\n",
    " code_show = !code_show\n",
    "} \n",
    "$( document ).ready(code_toggle);\n",
    "</script>\n",
    "The raw code for this IPython notebook is by default hidden for easier reading.\n",
    "To toggle on/off the raw code, click <a href=\"javascript:code_toggle()\">here</a>.''')"
   ]
  },
  {
   "cell_type": "markdown",
   "metadata": {},
   "source": [
    "####IMPORT STATEMENTS"
   ]
  },
  {
   "cell_type": "code",
   "execution_count": 69,
   "metadata": {
    "collapsed": false
   },
   "outputs": [],
   "source": [
    "import io\n",
    "import locale\n",
    "import numpy as np\n",
    "import pandas as pd\n",
    "import matplotlib.pyplot as plt\n",
    "%matplotlib inline"
   ]
  },
  {
   "cell_type": "markdown",
   "metadata": {},
   "source": [
    "####Look-up for City Names"
   ]
  },
  {
   "cell_type": "code",
   "execution_count": 3,
   "metadata": {
    "collapsed": false
   },
   "outputs": [],
   "source": [
    "jurisdiction_codes = {\n",
    "    1: 'Carlsbad',2: 'Chula Vista',3: 'Coronado',4: 'Del Mar',5: 'El Cajon',6: 'Encinitas',7: 'Escondido',\n",
    "    8: 'Imperial Beach',9: 'La Mesa',10: 'Lemon Grove',11: 'National City',12: 'Oceanside',13: 'Poway',\n",
    "    14: 'San Diego',15: 'San Marcos',16: 'Santee',17: 'Solana Beach',18: 'Vista',19: 'Unincorporated'\n",
    "}\n",
    "\n",
    "jurisdictions = pd.Series(jurisdiction_codes, name='jurisdiction')\n",
    "\n",
    "mode_codes = {\n",
    "    'Auto SOV (Non-Toll)': (1, 1),'Auto SOV (Toll)': (2, 1),\n",
    "    'Auto 2 Person (Non-Toll, Non-HOV)': (3, 2),'Auto 2 Person (Non-Toll, HOV)': (4, 2),'Auto 2 Person (Toll, HOV)': (5, 2),\n",
    "    'Auto 3+ Person (Non-Toll, Non-HOV)': (6, 3),'Auto 3+ Person (Non-Toll, HOV)': (7, 3),'Auto 3+ Person (Toll, HOV)': (8, 3),\n",
    "    'Walk': (9, 4),'Bike': (10, 5),\n",
    "    'Walk-Local Bus': (11, 6),'Walk-Express Bus': (12, 6),'Walk-Light Rail': (14, 6),'Walk-Heavy Rail': (15, 6),\n",
    "    'PNR-Local Bus': (16, 6),'PNR-Express Bus': (17, 6),'PNR-Light Rail': (19, 6),'PNR-Heavy Rail': (20, 6),\n",
    "    'KNR-Local Bus': (21, 6),'KNR-Express Bus': (22, 6),'KNR-Light Rail': (24, 6),'KNR-Heavy Rail': (25, 6)\n",
    "}\n",
    "\n",
    "\n",
    "\n",
    "modes = pd.DataFrame({'mode_id': [1,2,3,4,5,6,7,8,9,10,11,12,14,15,16,17,19,20,21,22,24,25]\n",
    "                      ,'super_mode' : ['Drive Alone','Drive Alone','HOV','HOV','HOV','HOV','HOV','HOV','Walk','Bike','Transit','Transit','Transit','Transit','Transit','Transit','Transit','Transit','Transit','Transit','Transit','Transit']}\n",
    "                    ,index = ['Auto SOV (Non-Toll)','Auto SOV (Toll)'\n",
    "                             ,'Auto 2 Person (Non-Toll, Non-HOV)','Auto 2 Person (Non-Toll, HOV)','Auto 2 Person (Toll, HOV)'\n",
    "                             ,'Auto 3+ Person (Non-Toll, Non-HOV)','Auto 3+ Person (Non-Toll, HOV)','Auto 3+ Person (Toll, HOV)'\n",
    "                             ,'Walk','Bike'\n",
    "                             ,'Walk-Local Bus','Walk-Express Bus','Walk-Light Rail','Walk-Heavy Rail'\n",
    "                             ,'PNR-Local Bus','PNR-Express Bus','PNR-Light Rail','PNR-Heavy Rail'\n",
    "                             ,'KNR-Local Bus','KNR-Express Bus','KNR-Light Rail','KNR-Heavy Rail'\n",
    "                            ])"
   ]
  },
  {
   "cell_type": "markdown",
   "metadata": {},
   "source": [
    "####Load up the datasets"
   ]
  },
  {
   "cell_type": "code",
   "execution_count": 4,
   "metadata": {
    "collapsed": false
   },
   "outputs": [],
   "source": [
    "locale.setlocale(locale.LC_ALL, '')\n",
    "\n",
    "base_csv_url = 'E:/Apps/sandag.github.io/transnet/baseline_mandatory_residents.csv'\n",
    "alt_csv_url = 'E:/Apps/sandag.github.io/transnet/no_tnet_mandatory_residents.csv'\n",
    "\n",
    "base_df = pd.read_csv(base_csv_url, index_col='tour_ij_id')\n",
    "alt_df = pd.read_csv(alt_csv_url, index_col='tour_ij_id')\n",
    "\n",
    "base_df = pd.merge(base_df, modes, left_on='mode_desc', right_index=True)\n",
    "alt_df = pd.merge(alt_df, modes, left_on='mode_desc', right_index=True)"
   ]
  },
  {
   "cell_type": "markdown",
   "metadata": {},
   "source": [
    "####Total Daily Time Change for Workers"
   ]
  },
  {
   "cell_type": "code",
   "execution_count": 5,
   "metadata": {
    "collapsed": false
   },
   "outputs": [
    {
     "name": "stdout",
     "output_type": "stream",
     "text": [
      "Total Daily Change in Time Spent on Mandatory Tours:  1,576,696.1 minutes\n",
      "Total Daily Change in Time Spent on Mandatory Tours:     26,278.3 hours\n"
     ]
    }
   ],
   "source": [
    "daily_min_change = alt_df.tour_time.sum() - base_df.tour_time.sum()\n",
    "\n",
    "print 'Total Daily Change in Time Spent on Mandatory Tours: {0:>12,.1f} minutes'.format(daily_min_change)\n",
    "print 'Total Daily Change in Time Spent on Mandatory Tours: {0:>12,.1f} hours'.format(daily_min_change / 60.)"
   ]
  },
  {
   "cell_type": "code",
   "execution_count": 79,
   "metadata": {
    "collapsed": false
   },
   "outputs": [
    {
     "data": {
      "text/plain": [
       "1107866"
      ]
     },
     "execution_count": 79,
     "metadata": {},
     "output_type": "execute_result"
    }
   ],
   "source": [
    "base_df.tour_time.count()"
   ]
  },
  {
   "cell_type": "markdown",
   "metadata": {},
   "source": [
    "####Total Annual Time Change for Workers"
   ]
  },
  {
   "cell_type": "code",
   "execution_count": 6,
   "metadata": {
    "collapsed": false
   },
   "outputs": [
    {
     "name": "stdout",
     "output_type": "stream",
     "text": [
      "Total Annual Change in Time Spent on Mandatory Tours:     382,251,871 minutes\n",
      "Total Annual Change in Time Spent on Mandatory Tours:       6,370,865 hours\n"
     ]
    }
   ],
   "source": [
    "base_df.loc[:, 'annual_tour_time'] = base_df.tour_time * base_df.weeks_worked * base_df.avg_days_worked\n",
    "alt_df.loc[:, 'annual_tour_time'] = alt_df.tour_time * alt_df.weeks_worked * alt_df.avg_days_worked\n",
    "\n",
    "annual_min_change = alt_df.annual_tour_time.sum() - base_df.annual_tour_time.sum()\n",
    "\n",
    "print 'Total Annual Change in Time Spent on Mandatory Tours: {0:>15,.0f} minutes'.format(annual_min_change)\n",
    "print 'Total Annual Change in Time Spent on Mandatory Tours: {0:>15,.0f} hours'.format(annual_min_change / 60.)"
   ]
  },
  {
   "cell_type": "markdown",
   "metadata": {},
   "source": [
    "####Total Annual Monetary Savings for Workers\n",
    "Value of time is derived from person table: hh_income / num_workers / annual_hours_worked"
   ]
  },
  {
   "cell_type": "code",
   "execution_count": 7,
   "metadata": {
    "collapsed": false
   },
   "outputs": [
    {
     "name": "stdout",
     "output_type": "stream",
     "text": [
      "Total Annual Change in User Costs without the Project: $237,688,689.35\n",
      "Average Annual Commuter Savings without the Project: $214.55\n"
     ]
    }
   ],
   "source": [
    "base_df.loc[:, 'annual_commute_cost'] = base_df.derived_hourly_salary * (base_df.annual_tour_time / 60)\n",
    "alt_df.loc[:, 'annual_commute_cost'] = alt_df.derived_hourly_salary * (alt_df.annual_tour_time / 60)\n",
    "\n",
    "annual_cost_difference = alt_df.annual_commute_cost.sum() - base_df.annual_commute_cost.sum()\n",
    "\n",
    "print 'Total Annual Change in User Costs without the Project: {0}'.format(locale.currency(annual_cost_difference, grouping=True))\n",
    "print 'Average Annual Commuter Savings without the Project: {0}'.format(locale.currency(annual_cost_difference / len(base_df)), grouping=True)"
   ]
  },
  {
   "cell_type": "markdown",
   "metadata": {},
   "source": [
    "####Total and Average Annual Savings for Commuters by Jurisdiction\n",
    "Value of time is derived from person table: hh_income / num_workers / annual_hours_worked"
   ]
  },
  {
   "cell_type": "code",
   "execution_count": 20,
   "metadata": {
    "collapsed": false,
    "scrolled": false
   },
   "outputs": [
    {
     "name": "stdout",
     "output_type": "stream",
     "text": [
      "                     jurisdiction annual_commute_cost\n",
      "home_jurisdiction                                    \n",
      "1                        Carlsbad       $4,523,188.44\n",
      "2                     Chula Vista      $21,597,151.10\n",
      "3                        Coronado       $1,261,940.10\n",
      "4                         Del Mar         $444,593.73\n",
      "5                        El Cajon       $6,664,000.53\n",
      "6                       Encinitas       $4,041,496.72\n",
      "7                       Escondido      $13,961,763.91\n",
      "8                  Imperial Beach       $1,006,413.25\n",
      "9                         La Mesa       $7,687,242.42\n",
      "10                    Lemon Grove       $2,353,539.13\n",
      "11                  National City       $1,629,825.34\n",
      "12                      Oceanside       $6,575,031.73\n",
      "13                          Poway       $8,690,786.43\n",
      "14                      San Diego      $92,908,624.07\n",
      "15                     San Marcos       $4,185,888.27\n",
      "16                         Santee      $13,586,344.33\n",
      "17                   Solana Beach         $899,357.57\n",
      "18                          Vista       $3,903,154.79\n",
      "19                 Unincorporated      $41,768,347.50\n",
      "      jurisdiction avg_annual_commute_savings\n",
      "1         Carlsbad                    $112.47\n",
      "2      Chula Vista                    $285.16\n",
      "3         Coronado                    $102.93\n",
      "4          Del Mar                    $230.12\n",
      "5         El Cajon                    $204.67\n",
      "6        Encinitas                    $173.71\n",
      "7        Escondido                    $304.58\n",
      "8   Imperial Beach                    $114.78\n",
      "9          La Mesa                    $322.38\n",
      "10     Lemon Grove                    $289.70\n",
      "11   National City                     $82.31\n",
      "12       Oceanside                    $112.82\n",
      "13           Poway                    $549.04\n",
      "14       San Diego                    $190.68\n",
      "15      San Marcos                    $153.09\n",
      "16          Santee                    $713.01\n",
      "17    Solana Beach                    $163.94\n",
      "18           Vista                    $133.98\n",
      "19  Unincorporated                    $241.23\n"
     ]
    }
   ],
   "source": [
    "base_jurisdiction = base_df[['home_jurisdiction','tour_time', 'annual_tour_time', 'annual_commute_cost']].groupby('home_jurisdiction').sum()\n",
    "alt_jurisdiction = alt_df[['home_jurisdiction','tour_time', 'annual_tour_time', 'annual_commute_cost']].groupby('home_jurisdiction').sum()\n",
    "base_commuters = base_df[['home_jurisdiction','annual_commute_cost']].groupby('home_jurisdiction').count()\n",
    "base_commuters.columns = ['commuters']\n",
    "\n",
    "jurisdiction_diff = alt_jurisdiction - base_jurisdiction\n",
    "jurisdiction_diff = jurisdiction_diff.join(jurisdictions)\n",
    "print jurisdiction_diff[['jurisdiction','annual_commute_cost']].to_string(formatters={'annual_commute_cost': '${:,.2f}'.format})\n",
    "\n",
    "commuter_savings = jurisdiction_diff['annual_commute_cost'] / base_commuters['commuters']\n",
    "print pd.concat([jurisdictions, commuter_savings], axis=1, keys=['jurisdiction','avg_annual_commute_savings']).to_string(formatters={'avg_annual_commute_savings': '${:,.2f}'.format})"
   ]
  },
  {
   "cell_type": "code",
   "execution_count": 62,
   "metadata": {
    "collapsed": false
   },
   "outputs": [
    {
     "data": {
      "text/plain": [
       "<matplotlib.axes._subplots.AxesSubplot at 0x1181a8d0>"
      ]
     },
     "execution_count": 62,
     "metadata": {},
     "output_type": "execute_result"
    },
    {
     "data": {
      "image/png": "[encoded data removed]",
      "text/plain": [
       "<matplotlib.figure.Figure at 0xca4ee80>"
      ]
     },
     "metadata": {},
     "output_type": "display_data"
    }
   ],
   "source": [
    "jurisdiction_diff[['jurisdiction','annual_commute_cost']].plot(kind='bar', y='annual_commute_cost', x='jurisdiction')"
   ]
  },
  {
   "cell_type": "code",
   "execution_count": 84,
   "metadata": {
    "collapsed": false
   },
   "outputs": [
    {
     "data": {
      "text/plain": [
       "<matplotlib.axes._subplots.AxesSubplot at 0xd0f6dd8>"
      ]
     },
     "execution_count": 84,
     "metadata": {},
     "output_type": "execute_result"
    },
    {
     "data": {
      "image/png": "[encoded data removed]",
      "text/plain": [
       "<matplotlib.figure.Figure at 0xd0f6828>"
      ]
     },
     "metadata": {},
     "output_type": "display_data"
    }
   ],
   "source": [
    "pd.concat([jurisdictions, commuter_savings], axis=1, keys=['jurisdiction','avg_annual_commute_savings']).plot(kind='bar', x='jurisdiction')"
   ]
  },
  {
   "cell_type": "code",
   "execution_count": 9,
   "metadata": {
    "collapsed": false
   },
   "outputs": [
    {
     "data": {
      "text/html": [
       "<div>\n",
       "<table border=\"1\" class=\"dataframe\">\n",
       "  <thead>\n",
       "    <tr style=\"text-align: right;\">\n",
       "      <th></th>\n",
       "      <th>tour_time</th>\n",
       "      <th>annual_tour_time</th>\n",
       "      <th>annual_commute_cost</th>\n",
       "    </tr>\n",
       "    <tr>\n",
       "      <th>super_mode</th>\n",
       "      <th></th>\n",
       "      <th></th>\n",
       "      <th></th>\n",
       "    </tr>\n",
       "  </thead>\n",
       "  <tbody>\n",
       "    <tr>\n",
       "      <th>Bike</th>\n",
       "      <td>15900.987000</td>\n",
       "      <td>4.102955e+06</td>\n",
       "      <td>1.104025e+06</td>\n",
       "    </tr>\n",
       "    <tr>\n",
       "      <th>Drive Alone</th>\n",
       "      <td>1307985.913697</td>\n",
       "      <td>3.127369e+08</td>\n",
       "      <td>1.888364e+08</td>\n",
       "    </tr>\n",
       "    <tr>\n",
       "      <th>HOV</th>\n",
       "      <td>683109.803945</td>\n",
       "      <td>1.593784e+08</td>\n",
       "      <td>8.970282e+07</td>\n",
       "    </tr>\n",
       "    <tr>\n",
       "      <th>Transit</th>\n",
       "      <td>-440444.737262</td>\n",
       "      <td>-9.612709e+07</td>\n",
       "      <td>-4.388228e+07</td>\n",
       "    </tr>\n",
       "    <tr>\n",
       "      <th>Walk</th>\n",
       "      <td>10144.128040</td>\n",
       "      <td>2.160655e+06</td>\n",
       "      <td>1.927770e+06</td>\n",
       "    </tr>\n",
       "  </tbody>\n",
       "</table>\n",
       "</div>"
      ],
      "text/plain": [
       "                  tour_time  annual_tour_time  annual_commute_cost\n",
       "super_mode                                                        \n",
       "Bike           15900.987000      4.102955e+06         1.104025e+06\n",
       "Drive Alone  1307985.913697      3.127369e+08         1.888364e+08\n",
       "HOV           683109.803945      1.593784e+08         8.970282e+07\n",
       "Transit      -440444.737262     -9.612709e+07        -4.388228e+07\n",
       "Walk           10144.128040      2.160655e+06         1.927770e+06"
      ]
     },
     "execution_count": 9,
     "metadata": {},
     "output_type": "execute_result"
    }
   ],
   "source": [
    "base_mode_sum = base_df[['super_mode','tour_time', 'annual_tour_time', 'annual_commute_cost']].groupby('super_mode').sum()\n",
    "alt_mode_sum = alt_df[['super_mode','tour_time', 'annual_tour_time', 'annual_commute_cost']].groupby('super_mode').sum()\n",
    "\n",
    "alt_mode_sum - base_mode_sum"
   ]
  },
  {
   "cell_type": "code",
   "execution_count": 17,
   "metadata": {
    "collapsed": false
   },
   "outputs": [
    {
     "data": {
      "text/html": [
       "<div>\n",
       "<table border=\"1\" class=\"dataframe\">\n",
       "  <thead>\n",
       "    <tr>\n",
       "      <th></th>\n",
       "      <th colspan=\"2\" halign=\"left\">tour_time</th>\n",
       "      <th colspan=\"2\" halign=\"left\">annual_tour_time</th>\n",
       "      <th colspan=\"2\" halign=\"left\">annual_commute_cost</th>\n",
       "      <th colspan=\"2\" halign=\"left\">tour_distance</th>\n",
       "    </tr>\n",
       "    <tr>\n",
       "      <th></th>\n",
       "      <th>count</th>\n",
       "      <th>mean</th>\n",
       "      <th>count</th>\n",
       "      <th>mean</th>\n",
       "      <th>count</th>\n",
       "      <th>mean</th>\n",
       "      <th>count</th>\n",
       "      <th>mean</th>\n",
       "    </tr>\n",
       "    <tr>\n",
       "      <th>super_mode</th>\n",
       "      <th></th>\n",
       "      <th></th>\n",
       "      <th></th>\n",
       "      <th></th>\n",
       "      <th></th>\n",
       "      <th></th>\n",
       "      <th></th>\n",
       "      <th></th>\n",
       "    </tr>\n",
       "  </thead>\n",
       "  <tbody>\n",
       "    <tr>\n",
       "      <th>Bike</th>\n",
       "      <td>14385</td>\n",
       "      <td>37.856062</td>\n",
       "      <td>14385</td>\n",
       "      <td>8082.532017</td>\n",
       "      <td>14385</td>\n",
       "      <td>3490.993241</td>\n",
       "      <td>14385</td>\n",
       "      <td>7.571212</td>\n",
       "    </tr>\n",
       "    <tr>\n",
       "      <th>Drive Alone</th>\n",
       "      <td>704642</td>\n",
       "      <td>50.410824</td>\n",
       "      <td>704642</td>\n",
       "      <td>11658.788654</td>\n",
       "      <td>704642</td>\n",
       "      <td>6874.263946</td>\n",
       "      <td>704642</td>\n",
       "      <td>26.310874</td>\n",
       "    </tr>\n",
       "    <tr>\n",
       "      <th>HOV</th>\n",
       "      <td>316258</td>\n",
       "      <td>49.039920</td>\n",
       "      <td>316258</td>\n",
       "      <td>11187.257663</td>\n",
       "      <td>316258</td>\n",
       "      <td>5937.012172</td>\n",
       "      <td>316258</td>\n",
       "      <td>25.580671</td>\n",
       "    </tr>\n",
       "    <tr>\n",
       "      <th>Transit</th>\n",
       "      <td>36931</td>\n",
       "      <td>111.360357</td>\n",
       "      <td>36931</td>\n",
       "      <td>24126.439655</td>\n",
       "      <td>36931</td>\n",
       "      <td>9440.669019</td>\n",
       "      <td>36931</td>\n",
       "      <td>17.395971</td>\n",
       "    </tr>\n",
       "    <tr>\n",
       "      <th>Walk</th>\n",
       "      <td>35650</td>\n",
       "      <td>37.748578</td>\n",
       "      <td>35650</td>\n",
       "      <td>7234.566461</td>\n",
       "      <td>35650</td>\n",
       "      <td>2495.986470</td>\n",
       "      <td>35650</td>\n",
       "      <td>1.887429</td>\n",
       "    </tr>\n",
       "  </tbody>\n",
       "</table>\n",
       "</div>"
      ],
      "text/plain": [
       "            tour_time             annual_tour_time                \\\n",
       "                count        mean            count          mean   \n",
       "super_mode                                                         \n",
       "Bike            14385   37.856062            14385   8082.532017   \n",
       "Drive Alone    704642   50.410824           704642  11658.788654   \n",
       "HOV            316258   49.039920           316258  11187.257663   \n",
       "Transit         36931  111.360357            36931  24126.439655   \n",
       "Walk            35650   37.748578            35650   7234.566461   \n",
       "\n",
       "            annual_commute_cost              tour_distance             \n",
       "                          count         mean         count       mean  \n",
       "super_mode                                                             \n",
       "Bike                      14385  3490.993241         14385   7.571212  \n",
       "Drive Alone              704642  6874.263946        704642  26.310874  \n",
       "HOV                      316258  5937.012172        316258  25.580671  \n",
       "Transit                   36931  9440.669019         36931  17.395971  \n",
       "Walk                      35650  2495.986470         35650   1.887429  "
      ]
     },
     "execution_count": 17,
     "metadata": {},
     "output_type": "execute_result"
    }
   ],
   "source": [
    "base_mode = base_df[['super_mode','tour_time', 'annual_tour_time', 'annual_commute_cost','tour_distance']].groupby('super_mode').agg(['count','mean'])\n",
    "alt_mode = alt_d['super_mode','tour_time', 'annual_tour_time', 'annual_commute_cost', 'tour_distance']].groupby('super_mode').agg(['count', 'mean'])\n",
    "base_mode"
   ]
  },
  {
   "cell_type": "code",
   "execution_count": 80,
   "metadata": {
    "collapsed": false
   },
   "outputs": [
    {
     "data": {
      "text/html": [
       "<div>\n",
       "<table border=\"1\" class=\"dataframe\">\n",
       "  <thead>\n",
       "    <tr>\n",
       "      <th></th>\n",
       "      <th colspan=\"2\" halign=\"left\">tour_time</th>\n",
       "      <th colspan=\"2\" halign=\"left\">annual_tour_time</th>\n",
       "      <th colspan=\"2\" halign=\"left\">annual_commute_cost</th>\n",
       "      <th colspan=\"2\" halign=\"left\">tour_distance</th>\n",
       "    </tr>\n",
       "    <tr>\n",
       "      <th></th>\n",
       "      <th>count</th>\n",
       "      <th>mean</th>\n",
       "      <th>count</th>\n",
       "      <th>mean</th>\n",
       "      <th>count</th>\n",
       "      <th>mean</th>\n",
       "      <th>count</th>\n",
       "      <th>mean</th>\n",
       "    </tr>\n",
       "    <tr>\n",
       "      <th>super_mode</th>\n",
       "      <th></th>\n",
       "      <th></th>\n",
       "      <th></th>\n",
       "      <th></th>\n",
       "      <th></th>\n",
       "      <th></th>\n",
       "      <th></th>\n",
       "      <th></th>\n",
       "    </tr>\n",
       "  </thead>\n",
       "  <tbody>\n",
       "    <tr>\n",
       "      <th>Bike</th>\n",
       "      <td>14701</td>\n",
       "      <td>38.123967</td>\n",
       "      <td>14701</td>\n",
       "      <td>8187.890509</td>\n",
       "      <td>14701</td>\n",
       "      <td>3491.052465</td>\n",
       "      <td>14701</td>\n",
       "      <td>7.624793</td>\n",
       "    </tr>\n",
       "    <tr>\n",
       "      <th>Drive Alone</th>\n",
       "      <td>705802</td>\n",
       "      <td>52.181164</td>\n",
       "      <td>705802</td>\n",
       "      <td>12082.721643</td>\n",
       "      <td>705802</td>\n",
       "      <td>7130.514581</td>\n",
       "      <td>705802</td>\n",
       "      <td>25.664826</td>\n",
       "    </tr>\n",
       "    <tr>\n",
       "      <th>HOV</th>\n",
       "      <td>318183</td>\n",
       "      <td>50.890138</td>\n",
       "      <td>318183</td>\n",
       "      <td>11620.476706</td>\n",
       "      <td>318183</td>\n",
       "      <td>6183.015467</td>\n",
       "      <td>318183</td>\n",
       "      <td>24.803993</td>\n",
       "    </tr>\n",
       "    <tr>\n",
       "      <th>Transit</th>\n",
       "      <td>33532</td>\n",
       "      <td>109.513438</td>\n",
       "      <td>33532</td>\n",
       "      <td>23705.309867</td>\n",
       "      <td>33532</td>\n",
       "      <td>9088.961912</td>\n",
       "      <td>33532</td>\n",
       "      <td>16.185632</td>\n",
       "    </tr>\n",
       "    <tr>\n",
       "      <th>Walk</th>\n",
       "      <td>36010</td>\n",
       "      <td>37.652900</td>\n",
       "      <td>36010</td>\n",
       "      <td>7222.242428</td>\n",
       "      <td>36010</td>\n",
       "      <td>2524.567828</td>\n",
       "      <td>36010</td>\n",
       "      <td>1.882645</td>\n",
       "    </tr>\n",
       "  </tbody>\n",
       "</table>\n",
       "</div>"
      ],
      "text/plain": [
       "            tour_time             annual_tour_time                \\\n",
       "                count        mean            count          mean   \n",
       "super_mode                                                         \n",
       "Bike            14701   38.123967            14701   8187.890509   \n",
       "Drive Alone    705802   52.181164           705802  12082.721643   \n",
       "HOV            318183   50.890138           318183  11620.476706   \n",
       "Transit         33532  109.513438            33532  23705.309867   \n",
       "Walk            36010   37.652900            36010   7222.242428   \n",
       "\n",
       "            annual_commute_cost              tour_distance             \n",
       "                          count         mean         count       mean  \n",
       "super_mode                                                             \n",
       "Bike                      14701  3491.052465         14701   7.624793  \n",
       "Drive Alone              705802  7130.514581        705802  25.664826  \n",
       "HOV                      318183  6183.015467        318183  24.803993  \n",
       "Transit                   33532  9088.961912         33532  16.185632  \n",
       "Walk                      36010  2524.567828         36010   1.882645  "
      ]
     },
     "execution_count": 80,
     "metadata": {},
     "output_type": "execute_result"
    }
   ],
   "source": [
    "alt_mode"
   ]
  },
  {
   "cell_type": "code",
   "execution_count": 22,
   "metadata": {
    "collapsed": false
   },
   "outputs": [
    {
     "data": {
      "text/html": [
       "<div>\n",
       "<table border=\"1\" class=\"dataframe\">\n",
       "  <thead>\n",
       "    <tr>\n",
       "      <th></th>\n",
       "      <th colspan=\"2\" halign=\"left\">tour_time</th>\n",
       "      <th colspan=\"2\" halign=\"left\">annual_tour_time</th>\n",
       "      <th colspan=\"2\" halign=\"left\">annual_commute_cost</th>\n",
       "      <th colspan=\"2\" halign=\"left\">tour_distance</th>\n",
       "    </tr>\n",
       "    <tr>\n",
       "      <th></th>\n",
       "      <th>count</th>\n",
       "      <th>mean</th>\n",
       "      <th>count</th>\n",
       "      <th>mean</th>\n",
       "      <th>count</th>\n",
       "      <th>mean</th>\n",
       "      <th>count</th>\n",
       "      <th>mean</th>\n",
       "    </tr>\n",
       "    <tr>\n",
       "      <th>super_mode</th>\n",
       "      <th></th>\n",
       "      <th></th>\n",
       "      <th></th>\n",
       "      <th></th>\n",
       "      <th></th>\n",
       "      <th></th>\n",
       "      <th></th>\n",
       "      <th></th>\n",
       "    </tr>\n",
       "  </thead>\n",
       "  <tbody>\n",
       "    <tr>\n",
       "      <th>Bike</th>\n",
       "      <td>316</td>\n",
       "      <td>0.267905</td>\n",
       "      <td>316</td>\n",
       "      <td>105.358492</td>\n",
       "      <td>316</td>\n",
       "      <td>0.059224</td>\n",
       "      <td>316</td>\n",
       "      <td>0.053581</td>\n",
       "    </tr>\n",
       "    <tr>\n",
       "      <th>Drive Alone</th>\n",
       "      <td>1160</td>\n",
       "      <td>1.770340</td>\n",
       "      <td>1160</td>\n",
       "      <td>423.932989</td>\n",
       "      <td>1160</td>\n",
       "      <td>256.250635</td>\n",
       "      <td>1160</td>\n",
       "      <td>-0.646049</td>\n",
       "    </tr>\n",
       "    <tr>\n",
       "      <th>HOV</th>\n",
       "      <td>1925</td>\n",
       "      <td>1.850218</td>\n",
       "      <td>1925</td>\n",
       "      <td>433.219043</td>\n",
       "      <td>1925</td>\n",
       "      <td>246.003296</td>\n",
       "      <td>1925</td>\n",
       "      <td>-0.776678</td>\n",
       "    </tr>\n",
       "    <tr>\n",
       "      <th>Transit</th>\n",
       "      <td>-3399</td>\n",
       "      <td>-1.846919</td>\n",
       "      <td>-3399</td>\n",
       "      <td>-421.129788</td>\n",
       "      <td>-3399</td>\n",
       "      <td>-351.707107</td>\n",
       "      <td>-3399</td>\n",
       "      <td>-1.210338</td>\n",
       "    </tr>\n",
       "    <tr>\n",
       "      <th>Walk</th>\n",
       "      <td>360</td>\n",
       "      <td>-0.095678</td>\n",
       "      <td>360</td>\n",
       "      <td>-12.324033</td>\n",
       "      <td>360</td>\n",
       "      <td>28.581359</td>\n",
       "      <td>360</td>\n",
       "      <td>-0.004784</td>\n",
       "    </tr>\n",
       "  </tbody>\n",
       "</table>\n",
       "</div>"
      ],
      "text/plain": [
       "            tour_time           annual_tour_time              \\\n",
       "                count      mean            count        mean   \n",
       "super_mode                                                     \n",
       "Bike              316  0.267905              316  105.358492   \n",
       "Drive Alone      1160  1.770340             1160  423.932989   \n",
       "HOV              1925  1.850218             1925  433.219043   \n",
       "Transit         -3399 -1.846919            -3399 -421.129788   \n",
       "Walk              360 -0.095678              360  -12.324033   \n",
       "\n",
       "            annual_commute_cost             tour_distance            \n",
       "                          count        mean         count      mean  \n",
       "super_mode                                                           \n",
       "Bike                        316    0.059224           316  0.053581  \n",
       "Drive Alone                1160  256.250635          1160 -0.646049  \n",
       "HOV                        1925  246.003296          1925 -0.776678  \n",
       "Transit                   -3399 -351.707107         -3399 -1.210338  \n",
       "Walk                        360   28.581359           360 -0.004784  "
      ]
     },
     "execution_count": 22,
     "metadata": {},
     "output_type": "execute_result"
    }
   ],
   "source": [
    "alt_mode - base_mode"
   ]
  },
  {
   "cell_type": "code",
   "execution_count": 81,
   "metadata": {
    "collapsed": false
   },
   "outputs": [
    {
     "name": "stdout",
     "output_type": "stream",
     "text": [
      "Total Daily Change in Person Miles Traveled (PMT) on Mandatory Tours:   -719,371.5 miles\n"
     ]
    }
   ],
   "source": [
    "print 'Total Daily Change in Person Miles Traveled (PMT) on Mandatory Tours: {0:>12,.1f} miles'.format(alt_df.tour_distance.sum() - base_df.tour_distance.sum())"
   ]
  },
  {
   "cell_type": "markdown",
   "metadata": {},
   "source": [
    "#CHANGE TO NON-MANDATORY TOURS"
   ]
  },
  {
   "cell_type": "code",
   "execution_count": 23,
   "metadata": {
    "collapsed": true
   },
   "outputs": [],
   "source": [
    "base_disc_csv_url = 'E:/Apps/sandag.github.io/transnet/baseline_non_work_residents.csv'\n",
    "alt_disc_csv_url = 'E:/Apps/sandag.github.io/transnet/no_tnet_non_work_residents.csv'\n",
    "\n",
    "base_disc_df = pd.read_csv(base_disc_csv_url, index_col='tour_ij_id')\n",
    "alt_disc_df = pd.read_csv(alt_disc_csv_url, index_col='tour_ij_id')\n",
    "\n",
    "base_disc_df = pd.merge(base_disc_df, modes, left_on='mode_desc', right_index=True)\n",
    "alt_disc_df = pd.merge(alt_disc_df, modes, left_on='mode_desc', right_index=True)"
   ]
  },
  {
   "cell_type": "code",
   "execution_count": 27,
   "metadata": {
    "collapsed": false
   },
   "outputs": [
    {
     "name": "stdout",
     "output_type": "stream",
     "text": [
      "Total change in non-work tours without the project:      -21,480\n"
     ]
    }
   ],
   "source": [
    "print 'Total change in non-work tours without the project: {0:>12,}'.format(len(alt_disc_df) - len(base_disc_df))"
   ]
  },
  {
   "cell_type": "code",
   "execution_count": 36,
   "metadata": {
    "collapsed": false
   },
   "outputs": [
    {
     "name": "stdout",
     "output_type": "stream",
     "text": [
      "Total Daily Change in Time Spent on Non-work Tours:  1,159,470.7 minutes\n",
      "Total Daily Change in Time Spent on Non-work Tours:     19,324.5 hours\n",
      "\n",
      "Total Daily Travel Savings without the Project:  $      241,556.39\n",
      "Total Annual Travel Savings without the Project: $   60,389,097.27\n"
     ]
    }
   ],
   "source": [
    "annualization_factor = 250\n",
    "value_of_time = 12.5\n",
    "\n",
    "daily_disc_min_change = alt_disc_df.tour_time.sum() - base_disc_df.tour_time.sum()\n",
    "\n",
    "print 'Total Daily Change in Time Spent on Non-work Tours: {0:>12,.1f} minutes'.format(daily_disc_min_change)\n",
    "print 'Total Daily Change in Time Spent on Non-work Tours: {0:>12,.1f} hours'.format(daily_disc_min_change / 60.)\n",
    "print ''\n",
    "print 'Total Daily Travel Savings without the Project:  ${0:>16,.2f}'.format(value_of_time * (daily_disc_min_change / 60.))\n",
    "print 'Total Annual Travel Savings without the Project: ${0:>16,.2f}'.format(annualization_factor * value_of_time * (daily_disc_min_change / 60.))"
   ]
  },
  {
   "cell_type": "code",
   "execution_count": 82,
   "metadata": {
    "collapsed": false
   },
   "outputs": [
    {
     "name": "stdout",
     "output_type": "stream",
     "text": [
      "Total Average Annual Travel Savings without the project for non-mandatory: $           19.21\n"
     ]
    }
   ],
   "source": [
    "residents_2012 = 3143418\n",
    "annual_disc_savings = annualization_factor * value_of_time * (daily_disc_min_change / 60.)\n",
    "\n",
    "print 'Total Average Annual Travel Savings without the project for non-mandatory: ${0:>16,.2f}'.format( annual_disc_savings / residents_2012)"
   ]
  },
  {
   "cell_type": "code",
   "execution_count": 45,
   "metadata": {
    "collapsed": false
   },
   "outputs": [
    {
     "data": {
      "text/html": [
       "<div>\n",
       "<table border=\"1\" class=\"dataframe\">\n",
       "  <thead>\n",
       "    <tr style=\"text-align: right;\">\n",
       "      <th></th>\n",
       "      <th>(tour_time, count)</th>\n",
       "      <th>(tour_time, mean)</th>\n",
       "      <th>(tour_time, sum)</th>\n",
       "      <th>jurisdiction</th>\n",
       "    </tr>\n",
       "    <tr>\n",
       "      <th>home_jurisdiction</th>\n",
       "      <th></th>\n",
       "      <th></th>\n",
       "      <th></th>\n",
       "      <th></th>\n",
       "    </tr>\n",
       "  </thead>\n",
       "  <tbody>\n",
       "    <tr>\n",
       "      <th>1</th>\n",
       "      <td>-192</td>\n",
       "      <td>0.437978</td>\n",
       "      <td>41927.072222</td>\n",
       "      <td>Carlsbad</td>\n",
       "    </tr>\n",
       "    <tr>\n",
       "      <th>2</th>\n",
       "      <td>-1615</td>\n",
       "      <td>0.266234</td>\n",
       "      <td>21970.500279</td>\n",
       "      <td>Chula Vista</td>\n",
       "    </tr>\n",
       "    <tr>\n",
       "      <th>3</th>\n",
       "      <td>-215</td>\n",
       "      <td>0.183299</td>\n",
       "      <td>-3469.537876</td>\n",
       "      <td>Coronado</td>\n",
       "    </tr>\n",
       "    <tr>\n",
       "      <th>4</th>\n",
       "      <td>-101</td>\n",
       "      <td>1.704037</td>\n",
       "      <td>3406.623609</td>\n",
       "      <td>Del Mar</td>\n",
       "    </tr>\n",
       "    <tr>\n",
       "      <th>5</th>\n",
       "      <td>-320</td>\n",
       "      <td>0.416928</td>\n",
       "      <td>33688.440198</td>\n",
       "      <td>El Cajon</td>\n",
       "    </tr>\n",
       "    <tr>\n",
       "      <th>6</th>\n",
       "      <td>-753</td>\n",
       "      <td>0.394481</td>\n",
       "      <td>1684.887225</td>\n",
       "      <td>Encinitas</td>\n",
       "    </tr>\n",
       "    <tr>\n",
       "      <th>7</th>\n",
       "      <td>-1692</td>\n",
       "      <td>0.351582</td>\n",
       "      <td>3061.025300</td>\n",
       "      <td>Escondido</td>\n",
       "    </tr>\n",
       "    <tr>\n",
       "      <th>8</th>\n",
       "      <td>-416</td>\n",
       "      <td>-0.149600</td>\n",
       "      <td>-15778.100675</td>\n",
       "      <td>Imperial Beach</td>\n",
       "    </tr>\n",
       "    <tr>\n",
       "      <th>9</th>\n",
       "      <td>-745</td>\n",
       "      <td>0.857465</td>\n",
       "      <td>26761.501114</td>\n",
       "      <td>La Mesa</td>\n",
       "    </tr>\n",
       "    <tr>\n",
       "      <th>10</th>\n",
       "      <td>18</td>\n",
       "      <td>1.190573</td>\n",
       "      <td>31004.073222</td>\n",
       "      <td>Lemon Grove</td>\n",
       "    </tr>\n",
       "    <tr>\n",
       "      <th>11</th>\n",
       "      <td>-227</td>\n",
       "      <td>0.209908</td>\n",
       "      <td>5688.779687</td>\n",
       "      <td>National City</td>\n",
       "    </tr>\n",
       "    <tr>\n",
       "      <th>12</th>\n",
       "      <td>-615</td>\n",
       "      <td>0.273069</td>\n",
       "      <td>26347.532739</td>\n",
       "      <td>Oceanside</td>\n",
       "    </tr>\n",
       "    <tr>\n",
       "      <th>13</th>\n",
       "      <td>-618</td>\n",
       "      <td>0.731597</td>\n",
       "      <td>16840.018779</td>\n",
       "      <td>Poway</td>\n",
       "    </tr>\n",
       "    <tr>\n",
       "      <th>14</th>\n",
       "      <td>-7899</td>\n",
       "      <td>0.577093</td>\n",
       "      <td>514245.323878</td>\n",
       "      <td>San Diego</td>\n",
       "    </tr>\n",
       "    <tr>\n",
       "      <th>15</th>\n",
       "      <td>-954</td>\n",
       "      <td>0.508572</td>\n",
       "      <td>15722.073161</td>\n",
       "      <td>San Marcos</td>\n",
       "    </tr>\n",
       "    <tr>\n",
       "      <th>16</th>\n",
       "      <td>-826</td>\n",
       "      <td>1.108020</td>\n",
       "      <td>36133.717681</td>\n",
       "      <td>Santee</td>\n",
       "    </tr>\n",
       "    <tr>\n",
       "      <th>17</th>\n",
       "      <td>-221</td>\n",
       "      <td>0.874279</td>\n",
       "      <td>4496.577816</td>\n",
       "      <td>Solana Beach</td>\n",
       "    </tr>\n",
       "    <tr>\n",
       "      <th>18</th>\n",
       "      <td>84</td>\n",
       "      <td>0.234647</td>\n",
       "      <td>25564.097950</td>\n",
       "      <td>Vista</td>\n",
       "    </tr>\n",
       "    <tr>\n",
       "      <th>19</th>\n",
       "      <td>-4173</td>\n",
       "      <td>1.119528</td>\n",
       "      <td>370176.061290</td>\n",
       "      <td>Unincorporated</td>\n",
       "    </tr>\n",
       "  </tbody>\n",
       "</table>\n",
       "</div>"
      ],
      "text/plain": [
       "                   (tour_time, count)  (tour_time, mean)  (tour_time, sum)  \\\n",
       "home_jurisdiction                                                            \n",
       "1                                -192           0.437978      41927.072222   \n",
       "2                               -1615           0.266234      21970.500279   \n",
       "3                                -215           0.183299      -3469.537876   \n",
       "4                                -101           1.704037       3406.623609   \n",
       "5                                -320           0.416928      33688.440198   \n",
       "6                                -753           0.394481       1684.887225   \n",
       "7                               -1692           0.351582       3061.025300   \n",
       "8                                -416          -0.149600     -15778.100675   \n",
       "9                                -745           0.857465      26761.501114   \n",
       "10                                 18           1.190573      31004.073222   \n",
       "11                               -227           0.209908       5688.779687   \n",
       "12                               -615           0.273069      26347.532739   \n",
       "13                               -618           0.731597      16840.018779   \n",
       "14                              -7899           0.577093     514245.323878   \n",
       "15                               -954           0.508572      15722.073161   \n",
       "16                               -826           1.108020      36133.717681   \n",
       "17                               -221           0.874279       4496.577816   \n",
       "18                                 84           0.234647      25564.097950   \n",
       "19                              -4173           1.119528     370176.061290   \n",
       "\n",
       "                     jurisdiction  \n",
       "home_jurisdiction                  \n",
       "1                        Carlsbad  \n",
       "2                     Chula Vista  \n",
       "3                        Coronado  \n",
       "4                         Del Mar  \n",
       "5                        El Cajon  \n",
       "6                       Encinitas  \n",
       "7                       Escondido  \n",
       "8                  Imperial Beach  \n",
       "9                         La Mesa  \n",
       "10                    Lemon Grove  \n",
       "11                  National City  \n",
       "12                      Oceanside  \n",
       "13                          Poway  \n",
       "14                      San Diego  \n",
       "15                     San Marcos  \n",
       "16                         Santee  \n",
       "17                   Solana Beach  \n",
       "18                          Vista  \n",
       "19                 Unincorporated  "
      ]
     },
     "execution_count": 45,
     "metadata": {},
     "output_type": "execute_result"
    }
   ],
   "source": [
    "base_disc_jur = base_disc_df[['home_jurisdiction','tour_time']].groupby('home_jurisdiction').agg(['count', 'mean', 'sum'])\n",
    "alt_disc_jur = alt_disc_df[['home_jurisdiction','tour_time']].groupby('home_jurisdiction').agg(['count', 'mean', 'sum'])\n",
    "\n",
    "disc_diff_jur = alt_disc_jur - base_disc_jur\n",
    "disc_diff_jur.join(jurisdictions)"
   ]
  },
  {
   "cell_type": "code",
   "execution_count": null,
   "metadata": {
    "collapsed": true
   },
   "outputs": [],
   "source": []
  }
 ],
 "metadata": {
  "kernelspec": {
   "display_name": "Python 2",
   "language": "python",
   "name": "python2"
  },
  "language_info": {
   "codemirror_mode": {
    "name": "ipython",
    "version": 2
   },
   "file_extension": ".py",
   "mimetype": "text/x-python",
   "name": "python",
   "nbconvert_exporter": "python",
   "pygments_lexer": "ipython2",
   "version": "2.7.8"
  }
 },
 "nbformat": 4,
 "nbformat_minor": 0
}
