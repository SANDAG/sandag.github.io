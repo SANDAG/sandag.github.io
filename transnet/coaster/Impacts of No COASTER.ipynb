{
 "cells": [
  {
   "cell_type": "code",
   "execution_count": 1,
   "metadata": {
    "collapsed": false
   },
   "outputs": [
    {
     "data": {
      "text/html": [
       "<script>\n",
       "code_show=true; \n",
       "function code_toggle() {\n",
       " if (code_show){\n",
       " $('div.input').hide();\n",
       " } else {\n",
       " $('div.input').show();\n",
       " }\n",
       " code_show = !code_show\n",
       "} \n",
       "$( document ).ready(code_toggle);\n",
       "</script>\n",
       "The raw code for this IPython notebook is by default hidden for easier reading.\n",
       "To toggle on/off the raw code, click <a href=\"javascript:code_toggle()\">here</a>."
      ],
      "text/plain": [
       "<IPython.core.display.HTML object>"
      ]
     },
     "execution_count": 1,
     "metadata": {},
     "output_type": "execute_result"
    }
   ],
   "source": [
    "from IPython.display import HTML\n",
    "HTML('''<script>\n",
    "code_show=true; \n",
    "function code_toggle() {\n",
    " if (code_show){\n",
    " $('div.input').hide();\n",
    " } else {\n",
    " $('div.input').show();\n",
    " }\n",
    " code_show = !code_show\n",
    "} \n",
    "$( document ).ready(code_toggle);\n",
    "</script>\n",
    "The raw code for this IPython notebook is by default hidden for easier reading.\n",
    "To toggle on/off the raw code, click <a href=\"javascript:code_toggle()\">here</a>.''')"
   ]
  },
  {
   "cell_type": "markdown",
   "metadata": {},
   "source": [
    "####IMPORT STATEMENTS"
   ]
  },
  {
   "cell_type": "code",
   "execution_count": 1,
   "metadata": {
    "collapsed": false
   },
   "outputs": [],
   "source": [
    "import io\n",
    "import locale\n",
    "import numpy as np\n",
    "import pandas as pd\n",
    "import matplotlib.pyplot as plt\n",
    "%matplotlib inline"
   ]
  },
  {
   "cell_type": "markdown",
   "metadata": {},
   "source": [
    "####Look-up for City Names"
   ]
  },
  {
   "cell_type": "code",
   "execution_count": 2,
   "metadata": {
    "collapsed": false
   },
   "outputs": [],
   "source": [
    "jurisdiction_codes = {\n",
    "    1: 'Carlsbad',2: 'Chula Vista',3: 'Coronado',4: 'Del Mar',5: 'El Cajon',6: 'Encinitas',7: 'Escondido',\n",
    "    8: 'Imperial Beach',9: 'La Mesa',10: 'Lemon Grove',11: 'National City',12: 'Oceanside',13: 'Poway',\n",
    "    14: 'San Diego',15: 'San Marcos',16: 'Santee',17: 'Solana Beach',18: 'Vista',19: 'Unincorporated'\n",
    "}\n",
    "\n",
    "jurisdictions = pd.Series(jurisdiction_codes, name='jurisdiction')\n",
    "\n",
    "mode_codes = {\n",
    "    'Auto SOV (Non-Toll)': (1, 1),'Auto SOV (Toll)': (2, 1),\n",
    "    'Auto 2 Person (Non-Toll, Non-HOV)': (3, 2),'Auto 2 Person (Non-Toll, HOV)': (4, 2),'Auto 2 Person (Toll, HOV)': (5, 2),\n",
    "    'Auto 3+ Person (Non-Toll, Non-HOV)': (6, 3),'Auto 3+ Person (Non-Toll, HOV)': (7, 3),'Auto 3+ Person (Toll, HOV)': (8, 3),\n",
    "    'Walk': (9, 4),'Bike': (10, 5),\n",
    "    'Walk-Local Bus': (11, 6),'Walk-Express Bus': (12, 6),'Walk-Light Rail': (14, 6),'Walk-Heavy Rail': (15, 6),\n",
    "    'PNR-Local Bus': (16, 6),'PNR-Express Bus': (17, 6),'PNR-Light Rail': (19, 6),'PNR-Heavy Rail': (20, 6),\n",
    "    'KNR-Local Bus': (21, 6),'KNR-Express Bus': (22, 6),'KNR-Light Rail': (24, 6),'KNR-Heavy Rail': (25, 6)\n",
    "}\n",
    "\n",
    "\n",
    "\n",
    "modes = pd.DataFrame({'mode_id': [1,2,3,4,5,6,7,8,9,10,11,12,14,15,16,17,19,20,21,22,24,25]\n",
    "                      ,'super_mode' : ['Drive Alone','Drive Alone','HOV','HOV','HOV','HOV','HOV','HOV','Walk','Bike','Transit','Transit','Transit','Transit','Transit','Transit','Transit','Transit','Transit','Transit','Transit','Transit']}\n",
    "                    ,index = ['Auto SOV (Non-Toll)','Auto SOV (Toll)'\n",
    "                             ,'Auto 2 Person (Non-Toll, Non-HOV)','Auto 2 Person (Non-Toll, HOV)','Auto 2 Person (Toll, HOV)'\n",
    "                             ,'Auto 3+ Person (Non-Toll, Non-HOV)','Auto 3+ Person (Non-Toll, HOV)','Auto 3+ Person (Toll, HOV)'\n",
    "                             ,'Walk','Bike'\n",
    "                             ,'Walk-Local Bus','Walk-Express Bus','Walk-Light Rail','Walk-Heavy Rail'\n",
    "                             ,'PNR-Local Bus','PNR-Express Bus','PNR-Light Rail','PNR-Heavy Rail'\n",
    "                             ,'KNR-Local Bus','KNR-Express Bus','KNR-Light Rail','KNR-Heavy Rail'\n",
    "                            ])"
   ]
  },
  {
   "cell_type": "markdown",
   "metadata": {},
   "source": [
    "####Load up the datasets"
   ]
  },
  {
   "cell_type": "code",
   "execution_count": 12,
   "metadata": {
    "collapsed": false
   },
   "outputs": [],
   "source": [
    "locale.setlocale(locale.LC_ALL, '')\n",
    "\n",
    "base_csv_url = 'E:/Apps/sandag.github.io/transnet/baseline_mandatory_residents.csv'\n",
    "alt_csv_url = 'E:/Apps/sandag.github.io/transnet/no_coaster_mandatory_residents.csv'\n",
    "\n",
    "base_df = pd.read_csv(base_csv_url, index_col='tour_ij_id')\n",
    "alt_df = pd.read_csv(alt_csv_url, index_col='tour_ij_id')\n",
    "\n",
    "base_df = pd.merge(base_df, modes, left_on='mode_desc', right_index=True)\n",
    "alt_df = pd.merge(alt_df, modes, left_on='mode_desc', right_index=True)"
   ]
  },
  {
   "cell_type": "markdown",
   "metadata": {},
   "source": [
    "####Casual Tour Statistics"
   ]
  },
  {
   "cell_type": "code",
   "execution_count": 13,
   "metadata": {
    "collapsed": false
   },
   "outputs": [
    {
     "name": "stdout",
     "output_type": "stream",
     "text": [
      "Total Number of Mandatory Tours (Base Case):  1,107,866\n",
      "Total Number of Mandatory Tours (Alt Case):   1,107,852\n"
     ]
    }
   ],
   "source": [
    "print 'Total Number of Mandatory Tours (Base Case): {0:>10,}'.format(len(base_df))\n",
    "print 'Total Number of Mandatory Tours (Alt Case): {0:>11,}'.format(len(alt_df))"
   ]
  },
  {
   "cell_type": "markdown",
   "metadata": {},
   "source": [
    "####Total Daily Time Change for Workers"
   ]
  },
  {
   "cell_type": "code",
   "execution_count": 14,
   "metadata": {
    "collapsed": false
   },
   "outputs": [
    {
     "name": "stdout",
     "output_type": "stream",
     "text": [
      "Total Daily Change in Time Spent on Mandatory Tours:   -128,390.6 minutes\n",
      "Total Daily Change in Time Spent on Mandatory Tours:     -2,139.8 hours\n"
     ]
    }
   ],
   "source": [
    "daily_min_change = alt_df.tour_time.sum() - base_df.tour_time.sum()\n",
    "\n",
    "print 'Total Daily Change in Time Spent on Mandatory Tours: {0:>12,.1f} minutes'.format(daily_min_change)\n",
    "print 'Total Daily Change in Time Spent on Mandatory Tours: {0:>12,.1f} hours'.format(daily_min_change / 60.)"
   ]
  },
  {
   "cell_type": "markdown",
   "metadata": {},
   "source": [
    "####Total Annual Time Change for Workers"
   ]
  },
  {
   "cell_type": "code",
   "execution_count": 15,
   "metadata": {
    "collapsed": false
   },
   "outputs": [
    {
     "name": "stdout",
     "output_type": "stream",
     "text": [
      "Total Annual Change in Time Spent on Mandatory Tours:     -27,790,417 minutes\n",
      "Total Annual Change in Time Spent on Mandatory Tours:        -463,174 hours\n"
     ]
    }
   ],
   "source": [
    "base_df.loc[:, 'annual_tour_time'] = base_df.tour_time * base_df.weeks_worked * base_df.avg_days_worked\n",
    "alt_df.loc[:, 'annual_tour_time'] = alt_df.tour_time * alt_df.weeks_worked * alt_df.avg_days_worked\n",
    "\n",
    "annual_min_change = alt_df.annual_tour_time.sum() - base_df.annual_tour_time.sum()\n",
    "\n",
    "print 'Total Annual Change in Time Spent on Mandatory Tours: {0:>15,.0f} minutes'.format(annual_min_change)\n",
    "print 'Total Annual Change in Time Spent on Mandatory Tours: {0:>15,.0f} hours'.format(annual_min_change / 60.)"
   ]
  },
  {
   "cell_type": "markdown",
   "metadata": {},
   "source": [
    "####Total Annual Monetary Savings for Workers\n",
    "Value of time is derived from person table: hh_income / num_workers / annual_hours_worked"
   ]
  },
  {
   "cell_type": "code",
   "execution_count": 16,
   "metadata": {
    "collapsed": false
   },
   "outputs": [
    {
     "name": "stdout",
     "output_type": "stream",
     "text": [
      "Total Annual Change in User Costs without the Project: ($20,992,594.49)\n",
      "Average Annual Commuter Savings without the Project: ($18.95)\n"
     ]
    }
   ],
   "source": [
    "base_df.loc[:, 'annual_commute_cost'] = base_df.derived_hourly_salary * (base_df.annual_tour_time / 60)\n",
    "alt_df.loc[:, 'annual_commute_cost'] = alt_df.derived_hourly_salary * (alt_df.annual_tour_time / 60)\n",
    "\n",
    "annual_cost_difference = alt_df.annual_commute_cost.sum() - base_df.annual_commute_cost.sum()\n",
    "\n",
    "print 'Total Annual Change in User Costs without the Project: {0}'.format(locale.currency(annual_cost_difference, grouping=True))\n",
    "print 'Average Annual Commuter Savings without the Project: {0}'.format(locale.currency(annual_cost_difference / len(base_df)), grouping=True)"
   ]
  },
  {
   "cell_type": "markdown",
   "metadata": {},
   "source": [
    "####Total and Average Annual Savings for Commuters by Jurisdiction\n",
    "Value of time is derived from person table: hh_income / num_workers / annual_hours_worked"
   ]
  },
  {
   "cell_type": "code",
   "execution_count": 17,
   "metadata": {
    "collapsed": false,
    "scrolled": false
   },
   "outputs": [
    {
     "name": "stdout",
     "output_type": "stream",
     "text": [
      "                     jurisdiction annual_commute_cost\n",
      "home_jurisdiction                                    \n",
      "1                        Carlsbad      $-1,446,391.31\n",
      "2                     Chula Vista       $1,213,196.47\n",
      "3                        Coronado        $-135,196.93\n",
      "4                         Del Mar         $362,161.13\n",
      "5                        El Cajon        $-483,660.58\n",
      "6                       Encinitas      $-1,322,969.26\n",
      "7                       Escondido         $591,535.35\n",
      "8                  Imperial Beach         $267,042.09\n",
      "9                         La Mesa        $-434,868.49\n",
      "10                    Lemon Grove         $363,833.56\n",
      "11                  National City         $229,614.98\n",
      "12                      Oceanside        $-457,843.61\n",
      "13                          Poway         $322,798.25\n",
      "14                      San Diego     $-13,247,856.80\n",
      "15                     San Marcos      $-1,373,025.78\n",
      "16                         Santee        $-100,057.59\n",
      "17                   Solana Beach        $-339,362.25\n",
      "18                          Vista         $355,534.32\n",
      "19                 Unincorporated      $-5,357,078.05\n",
      "      jurisdiction avg_annual_commute_savings\n",
      "1         Carlsbad                    $-35.96\n",
      "2      Chula Vista                     $16.02\n",
      "3         Coronado                    $-11.03\n",
      "4          Del Mar                    $187.45\n",
      "5         El Cajon                    $-14.85\n",
      "6        Encinitas                    $-56.86\n",
      "7        Escondido                     $12.90\n",
      "8   Imperial Beach                     $30.46\n",
      "9          La Mesa                    $-18.24\n",
      "10     Lemon Grove                     $44.79\n",
      "11   National City                     $11.60\n",
      "12       Oceanside                     $-7.86\n",
      "13           Poway                     $20.39\n",
      "14       San Diego                    $-27.19\n",
      "15      San Marcos                    $-50.21\n",
      "16          Santee                     $-5.25\n",
      "17    Solana Beach                    $-61.86\n",
      "18           Vista                     $12.20\n",
      "19  Unincorporated                    $-30.94\n"
     ]
    }
   ],
   "source": [
    "base_jurisdiction = base_df[['home_jurisdiction','tour_time', 'annual_tour_time', 'annual_commute_cost']].groupby('home_jurisdiction').sum()\n",
    "alt_jurisdiction = alt_df[['home_jurisdiction','tour_time', 'annual_tour_time', 'annual_commute_cost']].groupby('home_jurisdiction').sum()\n",
    "base_commuters = base_df[['home_jurisdiction','annual_commute_cost']].groupby('home_jurisdiction').count()\n",
    "base_commuters.columns = ['commuters']\n",
    "\n",
    "jurisdiction_diff = alt_jurisdiction - base_jurisdiction\n",
    "jurisdiction_diff = jurisdiction_diff.join(jurisdictions)\n",
    "print jurisdiction_diff[['jurisdiction','annual_commute_cost']].to_string(formatters={'annual_commute_cost': '${:,.2f}'.format})\n",
    "\n",
    "commuter_savings = jurisdiction_diff['annual_commute_cost'] / base_commuters['commuters']\n",
    "print pd.concat([jurisdictions, commuter_savings], axis=1, keys=['jurisdiction','avg_annual_commute_savings']).to_string(formatters={'avg_annual_commute_savings': '${:,.2f}'.format})"
   ]
  },
  {
   "cell_type": "code",
   "execution_count": 18,
   "metadata": {
    "collapsed": false
   },
   "outputs": [
    {
     "data": {
      "text/plain": [
       "<matplotlib.axes._subplots.AxesSubplot at 0x10c010b8>"
      ]
     },
     "execution_count": 18,
     "metadata": {},
     "output_type": "execute_result"
    },
    {
     "data": {
      "image/png": "[encoded data removed]",
      "text/plain": [
       "<matplotlib.figure.Figure at 0x10695978>"
      ]
     },
     "metadata": {},
     "output_type": "display_data"
    }
   ],
   "source": [
    "jurisdiction_diff[['jurisdiction','annual_commute_cost']].plot(kind='bar', y='annual_commute_cost', x='jurisdiction')"
   ]
  },
  {
   "cell_type": "code",
   "execution_count": 19,
   "metadata": {
    "collapsed": false
   },
   "outputs": [
    {
     "data": {
      "text/plain": [
       "<matplotlib.axes._subplots.AxesSubplot at 0x12126d30>"
      ]
     },
     "execution_count": 19,
     "metadata": {},
     "output_type": "execute_result"
    },
    {
     "data": {
      "image/png": "[encoded data removed]",
      "text/plain": [
       "<matplotlib.figure.Figure at 0x10695ef0>"
      ]
     },
     "metadata": {},
     "output_type": "display_data"
    }
   ],
   "source": [
    "pd.concat([jurisdictions, commuter_savings], axis=1, keys=['jurisdiction','avg_annual_commute_savings']).plot(kind='bar', x='jurisdiction')"
   ]
  },
  {
   "cell_type": "code",
   "execution_count": 20,
   "metadata": {
    "collapsed": false
   },
   "outputs": [
    {
     "data": {
      "text/html": [
       "<div>\n",
       "<table border=\"1\" class=\"dataframe\">\n",
       "  <thead>\n",
       "    <tr style=\"text-align: right;\">\n",
       "      <th></th>\n",
       "      <th>tour_time</th>\n",
       "      <th>annual_tour_time</th>\n",
       "      <th>annual_commute_cost</th>\n",
       "    </tr>\n",
       "    <tr>\n",
       "      <th>super_mode</th>\n",
       "      <th></th>\n",
       "      <th></th>\n",
       "      <th></th>\n",
       "    </tr>\n",
       "  </thead>\n",
       "  <tbody>\n",
       "    <tr>\n",
       "      <th>Bike</th>\n",
       "      <td>4789.785000</td>\n",
       "      <td>1396702.104000</td>\n",
       "      <td>-230813.568123</td>\n",
       "    </tr>\n",
       "    <tr>\n",
       "      <th>Drive Alone</th>\n",
       "      <td>13519.141700</td>\n",
       "      <td>5232097.122743</td>\n",
       "      <td>-745694.831832</td>\n",
       "    </tr>\n",
       "    <tr>\n",
       "      <th>HOV</th>\n",
       "      <td>8149.160824</td>\n",
       "      <td>1858838.008145</td>\n",
       "      <td>-991097.702143</td>\n",
       "    </tr>\n",
       "    <tr>\n",
       "      <th>Transit</th>\n",
       "      <td>-139037.678706</td>\n",
       "      <td>-33085410.788765</td>\n",
       "      <td>-17770561.199980</td>\n",
       "    </tr>\n",
       "    <tr>\n",
       "      <th>Walk</th>\n",
       "      <td>-15810.982262</td>\n",
       "      <td>-3192643.053321</td>\n",
       "      <td>-1254427.184635</td>\n",
       "    </tr>\n",
       "  </tbody>\n",
       "</table>\n",
       "</div>"
      ],
      "text/plain": [
       "                 tour_time  annual_tour_time  annual_commute_cost\n",
       "super_mode                                                       \n",
       "Bike           4789.785000    1396702.104000       -230813.568123\n",
       "Drive Alone   13519.141700    5232097.122743       -745694.831832\n",
       "HOV            8149.160824    1858838.008145       -991097.702143\n",
       "Transit     -139037.678706  -33085410.788765     -17770561.199980\n",
       "Walk         -15810.982262   -3192643.053321      -1254427.184635"
      ]
     },
     "execution_count": 20,
     "metadata": {},
     "output_type": "execute_result"
    }
   ],
   "source": [
    "base_mode_sum = base_df[['super_mode','tour_time', 'annual_tour_time', 'annual_commute_cost']].groupby('super_mode').sum()\n",
    "alt_mode_sum = alt_df[['super_mode','tour_time', 'annual_tour_time', 'annual_commute_cost']].groupby('super_mode').sum()\n",
    "\n",
    "alt_mode_sum - base_mode_sum"
   ]
  },
  {
   "cell_type": "code",
   "execution_count": 29,
   "metadata": {
    "collapsed": false
   },
   "outputs": [
    {
     "data": {
      "text/html": [
       "<div>\n",
       "<table border=\"1\" class=\"dataframe\">\n",
       "  <thead>\n",
       "    <tr>\n",
       "      <th></th>\n",
       "      <th colspan=\"3\" halign=\"left\">tour_time</th>\n",
       "      <th colspan=\"3\" halign=\"left\">annual_tour_time</th>\n",
       "      <th colspan=\"3\" halign=\"left\">annual_commute_cost</th>\n",
       "      <th colspan=\"3\" halign=\"left\">tour_distance</th>\n",
       "    </tr>\n",
       "    <tr>\n",
       "      <th></th>\n",
       "      <th>count</th>\n",
       "      <th>mean</th>\n",
       "      <th>sum</th>\n",
       "      <th>count</th>\n",
       "      <th>mean</th>\n",
       "      <th>sum</th>\n",
       "      <th>count</th>\n",
       "      <th>mean</th>\n",
       "      <th>sum</th>\n",
       "      <th>count</th>\n",
       "      <th>mean</th>\n",
       "      <th>sum</th>\n",
       "    </tr>\n",
       "    <tr>\n",
       "      <th>super_mode</th>\n",
       "      <th></th>\n",
       "      <th></th>\n",
       "      <th></th>\n",
       "      <th></th>\n",
       "      <th></th>\n",
       "      <th></th>\n",
       "      <th></th>\n",
       "      <th></th>\n",
       "      <th></th>\n",
       "      <th></th>\n",
       "      <th></th>\n",
       "      <th></th>\n",
       "    </tr>\n",
       "  </thead>\n",
       "  <tbody>\n",
       "    <tr>\n",
       "      <th>Bike</th>\n",
       "      <td>14385</td>\n",
       "      <td>37.856062</td>\n",
       "      <td>544559.458000</td>\n",
       "      <td>14385</td>\n",
       "      <td>8082.532017</td>\n",
       "      <td>1.162672e+08</td>\n",
       "      <td>14385</td>\n",
       "      <td>3490.993241</td>\n",
       "      <td>5.021794e+07</td>\n",
       "      <td>14385</td>\n",
       "      <td>7.571212</td>\n",
       "      <td>108911.891527</td>\n",
       "    </tr>\n",
       "    <tr>\n",
       "      <th>Drive Alone</th>\n",
       "      <td>704642</td>\n",
       "      <td>50.410824</td>\n",
       "      <td>35521584.098408</td>\n",
       "      <td>704642</td>\n",
       "      <td>11658.788654</td>\n",
       "      <td>8.215272e+09</td>\n",
       "      <td>704642</td>\n",
       "      <td>6874.263946</td>\n",
       "      <td>4.843895e+09</td>\n",
       "      <td>704642</td>\n",
       "      <td>26.310874</td>\n",
       "      <td>18539747.110046</td>\n",
       "    </tr>\n",
       "    <tr>\n",
       "      <th>HOV</th>\n",
       "      <td>316258</td>\n",
       "      <td>49.039920</td>\n",
       "      <td>15509267.008630</td>\n",
       "      <td>316258</td>\n",
       "      <td>11187.257663</td>\n",
       "      <td>3.538060e+09</td>\n",
       "      <td>316258</td>\n",
       "      <td>5937.012172</td>\n",
       "      <td>1.877628e+09</td>\n",
       "      <td>316258</td>\n",
       "      <td>25.580671</td>\n",
       "      <td>8090091.871794</td>\n",
       "    </tr>\n",
       "    <tr>\n",
       "      <th>Transit</th>\n",
       "      <td>36931</td>\n",
       "      <td>111.360357</td>\n",
       "      <td>4112649.328931</td>\n",
       "      <td>36931</td>\n",
       "      <td>24126.439655</td>\n",
       "      <td>8.910135e+08</td>\n",
       "      <td>36931</td>\n",
       "      <td>9440.669019</td>\n",
       "      <td>3.486533e+08</td>\n",
       "      <td>36931</td>\n",
       "      <td>17.395971</td>\n",
       "      <td>642450.590613</td>\n",
       "    </tr>\n",
       "    <tr>\n",
       "      <th>Walk</th>\n",
       "      <td>35650</td>\n",
       "      <td>37.748578</td>\n",
       "      <td>1345736.788285</td>\n",
       "      <td>35650</td>\n",
       "      <td>7234.566461</td>\n",
       "      <td>2.579123e+08</td>\n",
       "      <td>35650</td>\n",
       "      <td>2495.986470</td>\n",
       "      <td>8.898192e+07</td>\n",
       "      <td>35650</td>\n",
       "      <td>1.887429</td>\n",
       "      <td>67286.839703</td>\n",
       "    </tr>\n",
       "  </tbody>\n",
       "</table>\n",
       "</div>"
      ],
      "text/plain": [
       "            tour_time                              annual_tour_time  \\\n",
       "                count        mean              sum            count   \n",
       "super_mode                                                            \n",
       "Bike            14385   37.856062    544559.458000            14385   \n",
       "Drive Alone    704642   50.410824  35521584.098408           704642   \n",
       "HOV            316258   49.039920  15509267.008630           316258   \n",
       "Transit         36931  111.360357   4112649.328931            36931   \n",
       "Walk            35650   37.748578   1345736.788285            35650   \n",
       "\n",
       "                                        annual_commute_cost               \\\n",
       "                     mean           sum               count         mean   \n",
       "super_mode                                                                 \n",
       "Bike          8082.532017  1.162672e+08               14385  3490.993241   \n",
       "Drive Alone  11658.788654  8.215272e+09              704642  6874.263946   \n",
       "HOV          11187.257663  3.538060e+09              316258  5937.012172   \n",
       "Transit      24126.439655  8.910135e+08               36931  9440.669019   \n",
       "Walk          7234.566461  2.579123e+08               35650  2495.986470   \n",
       "\n",
       "                          tour_distance                              \n",
       "                      sum         count       mean              sum  \n",
       "super_mode                                                           \n",
       "Bike         5.021794e+07         14385   7.571212    108911.891527  \n",
       "Drive Alone  4.843895e+09        704642  26.310874  18539747.110046  \n",
       "HOV          1.877628e+09        316258  25.580671   8090091.871794  \n",
       "Transit      3.486533e+08         36931  17.395971    642450.590613  \n",
       "Walk         8.898192e+07         35650   1.887429     67286.839703  "
      ]
     },
     "execution_count": 29,
     "metadata": {},
     "output_type": "execute_result"
    }
   ],
   "source": [
    "base_mode = base_df[['super_mode','tour_time', 'annual_tour_time', 'annual_commute_cost','tour_distance']].groupby('super_mode').agg(['count','mean','sum'])\n",
    "alt_mode = alt_df[['super_mode','tour_time', 'annual_tour_time', 'annual_commute_cost', 'tour_distance']].groupby('super_mode').agg(['count', 'mean','sum'])\n",
    "base_mode"
   ]
  },
  {
   "cell_type": "code",
   "execution_count": 30,
   "metadata": {
    "collapsed": false
   },
   "outputs": [
    {
     "data": {
      "text/html": [
       "<div>\n",
       "<table border=\"1\" class=\"dataframe\">\n",
       "  <thead>\n",
       "    <tr>\n",
       "      <th></th>\n",
       "      <th colspan=\"3\" halign=\"left\">tour_time</th>\n",
       "      <th colspan=\"3\" halign=\"left\">annual_tour_time</th>\n",
       "      <th colspan=\"3\" halign=\"left\">annual_commute_cost</th>\n",
       "      <th colspan=\"3\" halign=\"left\">tour_distance</th>\n",
       "    </tr>\n",
       "    <tr>\n",
       "      <th></th>\n",
       "      <th>count</th>\n",
       "      <th>mean</th>\n",
       "      <th>sum</th>\n",
       "      <th>count</th>\n",
       "      <th>mean</th>\n",
       "      <th>sum</th>\n",
       "      <th>count</th>\n",
       "      <th>mean</th>\n",
       "      <th>sum</th>\n",
       "      <th>count</th>\n",
       "      <th>mean</th>\n",
       "      <th>sum</th>\n",
       "    </tr>\n",
       "    <tr>\n",
       "      <th>super_mode</th>\n",
       "      <th></th>\n",
       "      <th></th>\n",
       "      <th></th>\n",
       "      <th></th>\n",
       "      <th></th>\n",
       "      <th></th>\n",
       "      <th></th>\n",
       "      <th></th>\n",
       "      <th></th>\n",
       "      <th></th>\n",
       "      <th></th>\n",
       "      <th></th>\n",
       "    </tr>\n",
       "  </thead>\n",
       "  <tbody>\n",
       "    <tr>\n",
       "      <th>Bike</th>\n",
       "      <td>14490</td>\n",
       "      <td>37.912301</td>\n",
       "      <td>549349.243000</td>\n",
       "      <td>14490</td>\n",
       "      <td>8120.353703</td>\n",
       "      <td>1.176639e+08</td>\n",
       "      <td>14490</td>\n",
       "      <td>3449.767026</td>\n",
       "      <td>4.998712e+07</td>\n",
       "      <td>14490</td>\n",
       "      <td>7.582460</td>\n",
       "      <td>109869.848578</td>\n",
       "    </tr>\n",
       "    <tr>\n",
       "      <th>Drive Alone</th>\n",
       "      <td>704923</td>\n",
       "      <td>50.409908</td>\n",
       "      <td>35535103.240108</td>\n",
       "      <td>704923</td>\n",
       "      <td>11661.563394</td>\n",
       "      <td>8.220504e+09</td>\n",
       "      <td>704923</td>\n",
       "      <td>6870.465853</td>\n",
       "      <td>4.843149e+09</td>\n",
       "      <td>704923</td>\n",
       "      <td>26.299728</td>\n",
       "      <td>18539283.492167</td>\n",
       "    </tr>\n",
       "    <tr>\n",
       "      <th>HOV</th>\n",
       "      <td>316925</td>\n",
       "      <td>48.962424</td>\n",
       "      <td>15517416.169454</td>\n",
       "      <td>316925</td>\n",
       "      <td>11169.578203</td>\n",
       "      <td>3.539919e+09</td>\n",
       "      <td>316925</td>\n",
       "      <td>5921.389911</td>\n",
       "      <td>1.876636e+09</td>\n",
       "      <td>316925</td>\n",
       "      <td>25.480612</td>\n",
       "      <td>8075442.987308</td>\n",
       "    </tr>\n",
       "    <tr>\n",
       "      <th>Transit</th>\n",
       "      <td>36096</td>\n",
       "      <td>110.084543</td>\n",
       "      <td>3973611.650225</td>\n",
       "      <td>36096</td>\n",
       "      <td>23767.955788</td>\n",
       "      <td>8.579281e+08</td>\n",
       "      <td>36096</td>\n",
       "      <td>9166.743859</td>\n",
       "      <td>3.308828e+08</td>\n",
       "      <td>36096</td>\n",
       "      <td>16.706023</td>\n",
       "      <td>603020.593060</td>\n",
       "    </tr>\n",
       "    <tr>\n",
       "      <th>Walk</th>\n",
       "      <td>35418</td>\n",
       "      <td>37.549433</td>\n",
       "      <td>1329925.806023</td>\n",
       "      <td>35418</td>\n",
       "      <td>7191.813521</td>\n",
       "      <td>2.547197e+08</td>\n",
       "      <td>35418</td>\n",
       "      <td>2476.918247</td>\n",
       "      <td>8.772749e+07</td>\n",
       "      <td>35418</td>\n",
       "      <td>1.877472</td>\n",
       "      <td>66496.290599</td>\n",
       "    </tr>\n",
       "  </tbody>\n",
       "</table>\n",
       "</div>"
      ],
      "text/plain": [
       "            tour_time                              annual_tour_time  \\\n",
       "                count        mean              sum            count   \n",
       "super_mode                                                            \n",
       "Bike            14490   37.912301    549349.243000            14490   \n",
       "Drive Alone    704923   50.409908  35535103.240108           704923   \n",
       "HOV            316925   48.962424  15517416.169454           316925   \n",
       "Transit         36096  110.084543   3973611.650225            36096   \n",
       "Walk            35418   37.549433   1329925.806023            35418   \n",
       "\n",
       "                                        annual_commute_cost               \\\n",
       "                     mean           sum               count         mean   \n",
       "super_mode                                                                 \n",
       "Bike          8120.353703  1.176639e+08               14490  3449.767026   \n",
       "Drive Alone  11661.563394  8.220504e+09              704923  6870.465853   \n",
       "HOV          11169.578203  3.539919e+09              316925  5921.389911   \n",
       "Transit      23767.955788  8.579281e+08               36096  9166.743859   \n",
       "Walk          7191.813521  2.547197e+08               35418  2476.918247   \n",
       "\n",
       "                          tour_distance                              \n",
       "                      sum         count       mean              sum  \n",
       "super_mode                                                           \n",
       "Bike         4.998712e+07         14490   7.582460    109869.848578  \n",
       "Drive Alone  4.843149e+09        704923  26.299728  18539283.492167  \n",
       "HOV          1.876636e+09        316925  25.480612   8075442.987308  \n",
       "Transit      3.308828e+08         36096  16.706023    603020.593060  \n",
       "Walk         8.772749e+07         35418   1.877472     66496.290599  "
      ]
     },
     "execution_count": 30,
     "metadata": {},
     "output_type": "execute_result"
    }
   ],
   "source": [
    "alt_mode"
   ]
  },
  {
   "cell_type": "code",
   "execution_count": 31,
   "metadata": {
    "collapsed": false
   },
   "outputs": [
    {
     "data": {
      "text/html": [
       "<div>\n",
       "<table border=\"1\" class=\"dataframe\">\n",
       "  <thead>\n",
       "    <tr>\n",
       "      <th></th>\n",
       "      <th colspan=\"3\" halign=\"left\">tour_time</th>\n",
       "      <th colspan=\"3\" halign=\"left\">annual_tour_time</th>\n",
       "      <th colspan=\"3\" halign=\"left\">annual_commute_cost</th>\n",
       "      <th colspan=\"3\" halign=\"left\">tour_distance</th>\n",
       "    </tr>\n",
       "    <tr>\n",
       "      <th></th>\n",
       "      <th>count</th>\n",
       "      <th>mean</th>\n",
       "      <th>sum</th>\n",
       "      <th>count</th>\n",
       "      <th>mean</th>\n",
       "      <th>sum</th>\n",
       "      <th>count</th>\n",
       "      <th>mean</th>\n",
       "      <th>sum</th>\n",
       "      <th>count</th>\n",
       "      <th>mean</th>\n",
       "      <th>sum</th>\n",
       "    </tr>\n",
       "    <tr>\n",
       "      <th>super_mode</th>\n",
       "      <th></th>\n",
       "      <th></th>\n",
       "      <th></th>\n",
       "      <th></th>\n",
       "      <th></th>\n",
       "      <th></th>\n",
       "      <th></th>\n",
       "      <th></th>\n",
       "      <th></th>\n",
       "      <th></th>\n",
       "      <th></th>\n",
       "      <th></th>\n",
       "    </tr>\n",
       "  </thead>\n",
       "  <tbody>\n",
       "    <tr>\n",
       "      <th>Bike</th>\n",
       "      <td>105</td>\n",
       "      <td>0.056239</td>\n",
       "      <td>4789.785000</td>\n",
       "      <td>105</td>\n",
       "      <td>37.821687</td>\n",
       "      <td>1396702.104000</td>\n",
       "      <td>105</td>\n",
       "      <td>-41.226215</td>\n",
       "      <td>-230813.568123</td>\n",
       "      <td>105</td>\n",
       "      <td>0.011248</td>\n",
       "      <td>957.957051</td>\n",
       "    </tr>\n",
       "    <tr>\n",
       "      <th>Drive Alone</th>\n",
       "      <td>281</td>\n",
       "      <td>-0.000917</td>\n",
       "      <td>13519.141700</td>\n",
       "      <td>281</td>\n",
       "      <td>2.774739</td>\n",
       "      <td>5232097.122743</td>\n",
       "      <td>281</td>\n",
       "      <td>-3.798093</td>\n",
       "      <td>-745694.831832</td>\n",
       "      <td>281</td>\n",
       "      <td>-0.011146</td>\n",
       "      <td>-463.617879</td>\n",
       "    </tr>\n",
       "    <tr>\n",
       "      <th>HOV</th>\n",
       "      <td>667</td>\n",
       "      <td>-0.077496</td>\n",
       "      <td>8149.160824</td>\n",
       "      <td>667</td>\n",
       "      <td>-17.679460</td>\n",
       "      <td>1858838.008145</td>\n",
       "      <td>667</td>\n",
       "      <td>-15.622260</td>\n",
       "      <td>-991097.702143</td>\n",
       "      <td>667</td>\n",
       "      <td>-0.100059</td>\n",
       "      <td>-14648.884486</td>\n",
       "    </tr>\n",
       "    <tr>\n",
       "      <th>Transit</th>\n",
       "      <td>-835</td>\n",
       "      <td>-1.275814</td>\n",
       "      <td>-139037.678706</td>\n",
       "      <td>-835</td>\n",
       "      <td>-358.483867</td>\n",
       "      <td>-33085410.788765</td>\n",
       "      <td>-835</td>\n",
       "      <td>-273.925160</td>\n",
       "      <td>-17770561.199980</td>\n",
       "      <td>-835</td>\n",
       "      <td>-0.689948</td>\n",
       "      <td>-39429.997553</td>\n",
       "    </tr>\n",
       "    <tr>\n",
       "      <th>Walk</th>\n",
       "      <td>-232</td>\n",
       "      <td>-0.199145</td>\n",
       "      <td>-15810.982262</td>\n",
       "      <td>-232</td>\n",
       "      <td>-42.752940</td>\n",
       "      <td>-3192643.053321</td>\n",
       "      <td>-232</td>\n",
       "      <td>-19.068223</td>\n",
       "      <td>-1254427.184635</td>\n",
       "      <td>-232</td>\n",
       "      <td>-0.009957</td>\n",
       "      <td>-790.549104</td>\n",
       "    </tr>\n",
       "  </tbody>\n",
       "</table>\n",
       "</div>"
      ],
      "text/plain": [
       "            tour_time                          annual_tour_time              \\\n",
       "                count      mean            sum            count        mean   \n",
       "super_mode                                                                    \n",
       "Bike              105  0.056239    4789.785000              105   37.821687   \n",
       "Drive Alone       281 -0.000917   13519.141700              281    2.774739   \n",
       "HOV               667 -0.077496    8149.160824              667  -17.679460   \n",
       "Transit          -835 -1.275814 -139037.678706             -835 -358.483867   \n",
       "Walk             -232 -0.199145  -15810.982262             -232  -42.752940   \n",
       "\n",
       "                             annual_commute_cost                               \\\n",
       "                         sum               count        mean              sum   \n",
       "super_mode                                                                      \n",
       "Bike          1396702.104000                 105  -41.226215   -230813.568123   \n",
       "Drive Alone   5232097.122743                 281   -3.798093   -745694.831832   \n",
       "HOV           1858838.008145                 667  -15.622260   -991097.702143   \n",
       "Transit     -33085410.788765                -835 -273.925160 -17770561.199980   \n",
       "Walk         -3192643.053321                -232  -19.068223  -1254427.184635   \n",
       "\n",
       "            tour_distance                          \n",
       "                    count      mean           sum  \n",
       "super_mode                                         \n",
       "Bike                  105  0.011248    957.957051  \n",
       "Drive Alone           281 -0.011146   -463.617879  \n",
       "HOV                   667 -0.100059 -14648.884486  \n",
       "Transit              -835 -0.689948 -39429.997553  \n",
       "Walk                 -232 -0.009957   -790.549104  "
      ]
     },
     "execution_count": 31,
     "metadata": {},
     "output_type": "execute_result"
    }
   ],
   "source": [
    "alt_mode - base_mode"
   ]
  },
  {
   "cell_type": "code",
   "execution_count": 26,
   "metadata": {
    "collapsed": false
   },
   "outputs": [
    {
     "name": "stdout",
     "output_type": "stream",
     "text": [
      "Total Daily Change in Person Miles Traveled (PMT) on Mandatory Tours:    -54,375.1 miles\n"
     ]
    }
   ],
   "source": [
    "print 'Total Daily Change in Person Miles Traveled (PMT) on Mandatory Tours: {0:>12,.1f} miles'.format(alt_df.tour_distance.sum() - base_df.tour_distance.sum())"
   ]
  },
  {
   "cell_type": "code",
   "execution_count": null,
   "metadata": {
    "collapsed": true
   },
   "outputs": [],
   "source": []
  }
 ],
 "metadata": {
  "kernelspec": {
   "display_name": "Python 2",
   "language": "python",
   "name": "python2"
  },
  "language_info": {
   "codemirror_mode": {
    "name": "ipython",
    "version": 2
   },
   "file_extension": ".py",
   "mimetype": "text/x-python",
   "name": "python",
   "nbconvert_exporter": "python",
   "pygments_lexer": "ipython2",
   "version": "2.7.8"
  }
 },
 "nbformat": 4,
 "nbformat_minor": 0
}
